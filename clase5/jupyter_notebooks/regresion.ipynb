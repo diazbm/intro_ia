{
 "cells": [
  {
   "cell_type": "code",
   "execution_count": 11,
   "metadata": {
    "ExecuteTime": {
     "end_time": "2024-04-04T21:57:55.166098Z",
     "start_time": "2024-04-04T21:57:55.163688Z"
    }
   },
   "outputs": [],
   "source": [
    "import pandas as pd\n",
    "import numpy as np\n",
    "import matplotlib.pyplot as plt\n",
    "import seaborn as sns\n",
    "sns.set()"
   ]
  },
  {
   "cell_type": "markdown",
   "metadata": {},
   "source": [
    "# Ejercicio de regresión\n",
    "**Facundo A. Lucianna - Inteligencia Artificial - CEIA - FIUBA**\n",
    "\n",
    "Se quiere determinar la relación entre la concentración de cierto fármaco en el torrente sanguíneo y el tiempo transcurrido desde que se administró el fármaco. Se recopila datos sobre la concentración de la droga en el torrente sanguíneo en diferentes intervalos de tiempo después de la administración."
   ]
  },
  {
   "cell_type": "code",
   "execution_count": 12,
   "metadata": {
    "ExecuteTime": {
     "end_time": "2024-03-28T18:21:52.477713Z",
     "start_time": "2024-03-28T18:21:52.467770Z"
    }
   },
   "outputs": [
    {
     "data": {
      "text/html": [
       "<div>\n",
       "<style scoped>\n",
       "    .dataframe tbody tr th:only-of-type {\n",
       "        vertical-align: middle;\n",
       "    }\n",
       "\n",
       "    .dataframe tbody tr th {\n",
       "        vertical-align: top;\n",
       "    }\n",
       "\n",
       "    .dataframe thead th {\n",
       "        text-align: right;\n",
       "    }\n",
       "</style>\n",
       "<table border=\"1\" class=\"dataframe\">\n",
       "  <thead>\n",
       "    <tr style=\"text-align: right;\">\n",
       "      <th></th>\n",
       "      <th>Time</th>\n",
       "      <th>Concentration</th>\n",
       "    </tr>\n",
       "  </thead>\n",
       "  <tbody>\n",
       "    <tr>\n",
       "      <th>0</th>\n",
       "      <td>0.000000</td>\n",
       "      <td>98.607801</td>\n",
       "    </tr>\n",
       "    <tr>\n",
       "      <th>1</th>\n",
       "      <td>0.200930</td>\n",
       "      <td>98.640061</td>\n",
       "    </tr>\n",
       "    <tr>\n",
       "      <th>2</th>\n",
       "      <td>0.246241</td>\n",
       "      <td>91.323087</td>\n",
       "    </tr>\n",
       "    <tr>\n",
       "      <th>3</th>\n",
       "      <td>0.303356</td>\n",
       "      <td>85.141347</td>\n",
       "    </tr>\n",
       "    <tr>\n",
       "      <th>4</th>\n",
       "      <td>0.364378</td>\n",
       "      <td>93.402487</td>\n",
       "    </tr>\n",
       "    <tr>\n",
       "      <th>5</th>\n",
       "      <td>0.378042</td>\n",
       "      <td>89.197027</td>\n",
       "    </tr>\n",
       "    <tr>\n",
       "      <th>6</th>\n",
       "      <td>0.417262</td>\n",
       "      <td>91.931610</td>\n",
       "    </tr>\n",
       "    <tr>\n",
       "      <th>7</th>\n",
       "      <td>0.526640</td>\n",
       "      <td>90.533796</td>\n",
       "    </tr>\n",
       "    <tr>\n",
       "      <th>8</th>\n",
       "      <td>0.671365</td>\n",
       "      <td>81.727693</td>\n",
       "    </tr>\n",
       "    <tr>\n",
       "      <th>9</th>\n",
       "      <td>0.703716</td>\n",
       "      <td>81.126258</td>\n",
       "    </tr>\n",
       "  </tbody>\n",
       "</table>\n",
       "</div>"
      ],
      "text/plain": [
       "       Time  Concentration\n",
       "0  0.000000      98.607801\n",
       "1  0.200930      98.640061\n",
       "2  0.246241      91.323087\n",
       "3  0.303356      85.141347\n",
       "4  0.364378      93.402487\n",
       "5  0.378042      89.197027\n",
       "6  0.417262      91.931610\n",
       "7  0.526640      90.533796\n",
       "8  0.671365      81.727693\n",
       "9  0.703716      81.126258"
      ]
     },
     "execution_count": 12,
     "metadata": {},
     "output_type": "execute_result"
    }
   ],
   "source": [
    "dataset = pd.read_csv(\"datasets/drug.csv\") # cargando los datos desde un csv\n",
    "dataset.head(10) "
   ]
  },
  {
   "cell_type": "code",
   "execution_count": 13,
   "metadata": {
    "ExecuteTime": {
     "end_time": "2024-03-28T18:21:52.522113Z",
     "start_time": "2024-03-28T18:21:52.515313Z"
    }
   },
   "outputs": [
    {
     "data": {
      "text/html": [
       "<div>\n",
       "<style scoped>\n",
       "    .dataframe tbody tr th:only-of-type {\n",
       "        vertical-align: middle;\n",
       "    }\n",
       "\n",
       "    .dataframe tbody tr th {\n",
       "        vertical-align: top;\n",
       "    }\n",
       "\n",
       "    .dataframe thead th {\n",
       "        text-align: right;\n",
       "    }\n",
       "</style>\n",
       "<table border=\"1\" class=\"dataframe\">\n",
       "  <thead>\n",
       "    <tr style=\"text-align: right;\">\n",
       "      <th></th>\n",
       "      <th>Time</th>\n",
       "      <th>Concentration</th>\n",
       "    </tr>\n",
       "  </thead>\n",
       "  <tbody>\n",
       "    <tr>\n",
       "      <th>count</th>\n",
       "      <td>50.000000</td>\n",
       "      <td>50.000000</td>\n",
       "    </tr>\n",
       "    <tr>\n",
       "      <th>mean</th>\n",
       "      <td>1.837241</td>\n",
       "      <td>61.162161</td>\n",
       "    </tr>\n",
       "    <tr>\n",
       "      <th>std</th>\n",
       "      <td>1.122143</td>\n",
       "      <td>23.448881</td>\n",
       "    </tr>\n",
       "    <tr>\n",
       "      <th>min</th>\n",
       "      <td>0.000000</td>\n",
       "      <td>13.684360</td>\n",
       "    </tr>\n",
       "    <tr>\n",
       "      <th>25%</th>\n",
       "      <td>1.002335</td>\n",
       "      <td>42.859060</td>\n",
       "    </tr>\n",
       "    <tr>\n",
       "      <th>50%</th>\n",
       "      <td>1.646105</td>\n",
       "      <td>63.195569</td>\n",
       "    </tr>\n",
       "    <tr>\n",
       "      <th>75%</th>\n",
       "      <td>2.808956</td>\n",
       "      <td>80.721376</td>\n",
       "    </tr>\n",
       "    <tr>\n",
       "      <th>max</th>\n",
       "      <td>4.000000</td>\n",
       "      <td>98.640061</td>\n",
       "    </tr>\n",
       "  </tbody>\n",
       "</table>\n",
       "</div>"
      ],
      "text/plain": [
       "            Time  Concentration\n",
       "count  50.000000      50.000000\n",
       "mean    1.837241      61.162161\n",
       "std     1.122143      23.448881\n",
       "min     0.000000      13.684360\n",
       "25%     1.002335      42.859060\n",
       "50%     1.646105      63.195569\n",
       "75%     2.808956      80.721376\n",
       "max     4.000000      98.640061"
      ]
     },
     "execution_count": 13,
     "metadata": {},
     "output_type": "execute_result"
    }
   ],
   "source": [
    "dataset.describe()"
   ]
  },
  {
   "cell_type": "code",
   "execution_count": 14,
   "metadata": {
    "ExecuteTime": {
     "end_time": "2024-03-28T18:21:52.727927Z",
     "start_time": "2024-03-28T18:21:52.558644Z"
    }
   },
   "outputs": [
    {
     "data": {
      "image/png": "[encoded data removed]",
      "text/plain": [
       "<Figure size 700x500 with 1 Axes>"
      ]
     },
     "metadata": {},
     "output_type": "display_data"
    }
   ],
   "source": [
    "# Pandas nos da algunas herramientas de graficado\n",
    "plt.figure(figsize=(7, 5))\n",
    "#dataset.Time.hist()\n",
    "dataset[\"Time\"].hist()\n",
    "plt.show()"
   ]
  },
  {
   "cell_type": "code",
   "execution_count": 5,
   "metadata": {
    "ExecuteTime": {
     "end_time": "2024-03-28T18:21:52.862585Z",
     "start_time": "2024-03-28T18:21:52.732387Z"
    }
   },
   "outputs": [
    {
     "data": {
      "image/png": "[encoded data removed]",
      "text/plain": [
       "<Figure size 700x500 with 1 Axes>"
      ]
     },
     "metadata": {},
     "output_type": "display_data"
    }
   ],
   "source": [
    "plt.figure(figsize=(7, 5))\n",
    "dataset.Concentration.hist()\n",
    "plt.show()"
   ]
  },
  {
   "cell_type": "code",
   "execution_count": 15,
   "metadata": {
    "ExecuteTime": {
     "end_time": "2024-03-28T18:21:52.953273Z",
     "start_time": "2024-03-28T18:21:52.864680Z"
    }
   },
   "outputs": [
    {
     "data": {
      "image/png": "[encoded data removed]",
      "text/plain": [
       "<Figure size 700x500 with 2 Axes>"
      ]
     },
     "metadata": {},
     "output_type": "display_data"
    }
   ],
   "source": [
    "# podemos ver cuál es la relación entre ambas variables....\n",
    "plt.figure(figsize=(7, 5))\n",
    "correlacion_drug = np.corrcoef(dataset[\"Time\"], dataset[\"Concentration\"])\n",
    "sns.heatmap(data=correlacion_drug, annot=True, annot_kws={\"size\": 16})\n",
    "plt.show()"
   ]
  },
  {
   "cell_type": "code",
   "execution_count": 16,
   "metadata": {
    "ExecuteTime": {
     "end_time": "2024-03-28T18:21:53.100485Z",
     "start_time": "2024-03-28T18:21:52.955871Z"
    }
   },
   "outputs": [
    {
     "data": {
      "image/png": "[encoded data removed]",
      "text/plain": [
       "<Figure size 700x500 with 1 Axes>"
      ]
     },
     "metadata": {},
     "output_type": "display_data"
    }
   ],
   "source": [
    "# Graficamos el dataset\n",
    "plt.figure(figsize=(7, 5))\n",
    "plt.scatter(dataset['Time'], dataset['Concentration'] , color='r', marker=\"x\", s=60)\n",
    "plt.grid(True, linewidth=0.5)\n",
    "plt.xlabel('Tiempo [h]', fontsize=14)\n",
    "plt.ylabel('Concentración [mg/L]', fontsize=14)\n",
    "plt.tick_params(axis='x', labelsize=12)\n",
    "plt.tick_params(axis='y', labelsize=12)\n",
    "plt.title('Dataset de concentración de droga vs. tiempo', fontsize=16)\n",
    "plt.show()"
   ]
  },
  {
   "cell_type": "markdown",
   "metadata": {},
   "source": [
    "Ya tenemos los datos y de hecho vemos que hay una relación lineal entre las dos variables, por lo tanto, asumimos que es podemos usar **regresion lineal simple** (ya que hay una variable independiente y otra dependiente) para poder resolver nuestro problema.\n",
    "\n",
    "Ahora vamos a armar nuestro modelo, para ello vamos a utilizar el proceso que vimos de Machine Learning\n",
    "\n",
    "![proceso ML](./img/proceso_ml.png)\n",
    "\n",
    "Es decir, necesitaremos datos de entrenamiento y datos de test. Esto se puede hacer facilmente con la libreria **scikit-learn** que nos permite separar nuestros datos para entrenar y para testear el funcionamiento de nuestro modelo.\n",
    "\n",
    "Puedes también visitar la pagina de scikit-learn [Aca](https://scikit-learn.org/stable/)."
   ]
  },
  {
   "cell_type": "code",
   "execution_count": 17,
   "metadata": {
    "ExecuteTime": {
     "end_time": "2024-03-28T18:21:53.210995Z",
     "start_time": "2024-03-28T18:21:53.104382Z"
    }
   },
   "outputs": [],
   "source": [
    "# importando módulo para separar datos de entrenamiento y testeo de scikit-learn\n",
    "from sklearn.model_selection import train_test_split"
   ]
  },
  {
   "cell_type": "code",
   "execution_count": 18,
   "metadata": {
    "ExecuteTime": {
     "end_time": "2024-03-28T18:21:53.226778Z",
     "start_time": "2024-03-28T18:21:53.224163Z"
    }
   },
   "outputs": [],
   "source": [
    "# Armamos un DataFrame con los features\n",
    "X = dataset[[\"Time\"]]\n",
    "# Y con la variable dependiente (target)\n",
    "y = dataset[\"Concentration\"]"
   ]
  },
  {
   "cell_type": "code",
   "execution_count": 19,
   "metadata": {
    "ExecuteTime": {
     "end_time": "2024-03-28T18:21:53.279933Z",
     "start_time": "2024-03-28T18:21:53.274111Z"
    }
   },
   "outputs": [
    {
     "data": {
      "text/plain": [
       "pandas.core.frame.DataFrame"
      ]
     },
     "execution_count": 19,
     "metadata": {},
     "output_type": "execute_result"
    }
   ],
   "source": [
    "# valores de X\n",
    "type(X)"
   ]
  },
  {
   "cell_type": "code",
   "execution_count": 20,
   "metadata": {
    "ExecuteTime": {
     "end_time": "2024-03-28T18:21:53.368194Z",
     "start_time": "2024-03-28T18:21:53.365317Z"
    }
   },
   "outputs": [
    {
     "data": {
      "text/plain": [
       "0    98.607801\n",
       "1    98.640061\n",
       "2    91.323087\n",
       "3    85.141347\n",
       "4    93.402487\n",
       "Name: Concentration, dtype: float64"
      ]
     },
     "execution_count": 20,
     "metadata": {},
     "output_type": "execute_result"
    }
   ],
   "source": [
    "# valores de y\n",
    "y.head()"
   ]
  },
  {
   "cell_type": "code",
   "execution_count": 21,
   "metadata": {
    "ExecuteTime": {
     "end_time": "2024-03-28T18:21:53.397856Z",
     "start_time": "2024-03-28T18:21:53.395801Z"
    }
   },
   "outputs": [
    {
     "name": "stdout",
     "output_type": "stream",
     "text": [
      "Cantidad de elementos en 'X': (50, 1)\n",
      "Cantidad de elementos en 'y': (50,)\n"
     ]
    }
   ],
   "source": [
    "# Cantidad de elementos en X y en y\n",
    "print(\"Cantidad de elementos en 'X':\", X.shape)\n",
    "print(\"Cantidad de elementos en 'y':\", y.shape)"
   ]
  },
  {
   "cell_type": "markdown",
   "metadata": {},
   "source": [
    "Separamos el dataset de entrenamiento y testeo. Para este problema usamos el tamaño del test de 30% aprox."
   ]
  },
  {
   "cell_type": "code",
   "execution_count": 22,
   "metadata": {
    "ExecuteTime": {
     "end_time": "2024-03-28T18:21:53.448751Z",
     "start_time": "2024-03-28T18:21:53.446378Z"
    }
   },
   "outputs": [],
   "source": [
    "# Separando nuestro dataset en entrenamiento y testeo\n",
    "X_train, X_test, y_train, y_test = train_test_split(X, y, test_size=0.3, random_state=42)"
   ]
  },
  {
   "cell_type": "code",
   "execution_count": 23,
   "metadata": {
    "ExecuteTime": {
     "end_time": "2024-03-28T18:21:53.483607Z",
     "start_time": "2024-03-28T18:21:53.481680Z"
    }
   },
   "outputs": [
    {
     "name": "stdout",
     "output_type": "stream",
     "text": [
      "Valores de X_train: 35\n",
      "Valores de y_train: 35\n",
      "Valores de X_test: 15\n",
      "Valores de y_test: 15\n"
     ]
    }
   ],
   "source": [
    "# Datos de train y de test\n",
    "print(\"Valores de X_train:\",X_train.size)\n",
    "print(\"Valores de y_train:\",y_train.size)\n",
    "print(\"Valores de X_test:\",len(X_test))\n",
    "print(\"Valores de y_test:\",len(y_test))"
   ]
  },
  {
   "cell_type": "markdown",
   "metadata": {},
   "source": [
    "Para aplicar el modelo de regresión lineal, la forma de implementarlo usando **scikit-learn**, parámetros y formas de uso la podemos encontrar [aca](https://scikit-learn.org/stable/modules/generated/sklearn.linear_model.LinearRegression.html#sklearn.linear_model.LinearRegression)."
   ]
  },
  {
   "cell_type": "code",
   "execution_count": 24,
   "metadata": {
    "ExecuteTime": {
     "end_time": "2024-03-28T18:21:53.609637Z",
     "start_time": "2024-03-28T18:21:53.567673Z"
    }
   },
   "outputs": [],
   "source": [
    "# Creando el modelo de regresión lineal simple:\n",
    "from sklearn.linear_model import LinearRegression\n",
    "regresion = LinearRegression()"
   ]
  },
  {
   "cell_type": "code",
   "execution_count": 25,
   "metadata": {
    "ExecuteTime": {
     "end_time": "2024-03-28T18:21:53.614276Z",
     "start_time": "2024-03-28T18:21:53.610498Z"
    }
   },
   "outputs": [
    {
     "data": {
      "text/html": [
       "<style>#sk-container-id-1 {\n",
       "  /* Definition of color scheme common for light and dark mode */\n",
       "  --sklearn-color-text: black;\n",
       "  --sklearn-color-line: gray;\n",
       "  /* Definition of color scheme for unfitted estimators */\n",
       "  --sklearn-color-unfitted-level-0: #fff5e6;\n",
       "  --sklearn-color-unfitted-level-1: #f6e4d2;\n",
       "  --sklearn-color-unfitted-level-2: #ffe0b3;\n",
       "  --sklearn-color-unfitted-level-3: chocolate;\n",
       "  /* Definition of color scheme for fitted estimators */\n",
       "  --sklearn-color-fitted-level-0: #f0f8ff;\n",
       "  --sklearn-color-fitted-level-1: #d4ebff;\n",
       "  --sklearn-color-fitted-level-2: #b3dbfd;\n",
       "  --sklearn-color-fitted-level-3: cornflowerblue;\n",
       "\n",
       "  /* Specific color for light theme */\n",
       "  --sklearn-color-text-on-default-background: var(--sg-text-color, var(--theme-code-foreground, var(--jp-content-font-color1, black)));\n",
       "  --sklearn-color-background: var(--sg-background-color, var(--theme-background, var(--jp-layout-color0, white)));\n",
       "  --sklearn-color-border-box: var(--sg-text-color, var(--theme-code-foreground, var(--jp-content-font-color1, black)));\n",
       "  --sklearn-color-icon: #696969;\n",
       "\n",
       "  @media (prefers-color-scheme: dark) {\n",
       "    /* Redefinition of color scheme for dark theme */\n",
       "    --sklearn-color-text-on-default-background: var(--sg-text-color, var(--theme-code-foreground, var(--jp-content-font-color1, white)));\n",
       "    --sklearn-color-background: var(--sg-background-color, var(--theme-background, var(--jp-layout-color0, #111)));\n",
       "    --sklearn-color-border-box: var(--sg-text-color, var(--theme-code-foreground, var(--jp-content-font-color1, white)));\n",
       "    --sklearn-color-icon: #878787;\n",
       "  }\n",
       "}\n",
       "\n",
       "#sk-container-id-1 {\n",
       "  color: var(--sklearn-color-text);\n",
       "}\n",
       "\n",
       "#sk-container-id-1 pre {\n",
       "  padding: 0;\n",
       "}\n",
       "\n",
       "#sk-container-id-1 input.sk-hidden--visually {\n",
       "  border: 0;\n",
       "  clip: rect(1px 1px 1px 1px);\n",
       "  clip: rect(1px, 1px, 1px, 1px);\n",
       "  height: 1px;\n",
       "  margin: -1px;\n",
       "  overflow: hidden;\n",
       "  padding: 0;\n",
       "  position: absolute;\n",
       "  width: 1px;\n",
       "}\n",
       "\n",
       "#sk-container-id-1 div.sk-dashed-wrapped {\n",
       "  border: 1px dashed var(--sklearn-color-line);\n",
       "  margin: 0 0.4em 0.5em 0.4em;\n",
       "  box-sizing: border-box;\n",
       "  padding-bottom: 0.4em;\n",
       "  background-color: var(--sklearn-color-background);\n",
       "}\n",
       "\n",
       "#sk-container-id-1 div.sk-container {\n",
       "  /* jupyter's `normalize.less` sets `[hidden] { display: none; }`\n",
       "     but bootstrap.min.css set `[hidden] { display: none !important; }`\n",
       "     so we also need the `!important` here to be able to override the\n",
       "     default hidden behavior on the sphinx rendered scikit-learn.org.\n",
       "     See: https://github.com/scikit-learn/scikit-learn/issues/21755 */\n",
       "  display: inline-block !important;\n",
       "  position: relative;\n",
       "}\n",
       "\n",
       "#sk-container-id-1 div.sk-text-repr-fallback {\n",
       "  display: none;\n",
       "}\n",
       "\n",
       "div.sk-parallel-item,\n",
       "div.sk-serial,\n",
       "div.sk-item {\n",
       "  /* draw centered vertical line to link estimators */\n",
       "  background-image: linear-gradient(var(--sklearn-color-text-on-default-background), var(--sklearn-color-text-on-default-background));\n",
       "  background-size: 2px 100%;\n",
       "  background-repeat: no-repeat;\n",
       "  background-position: center center;\n",
       "}\n",
       "\n",
       "/* Parallel-specific style estimator block */\n",
       "\n",
       "#sk-container-id-1 div.sk-parallel-item::after {\n",
       "  content: \"\";\n",
       "  width: 100%;\n",
       "  border-bottom: 2px solid var(--sklearn-color-text-on-default-background);\n",
       "  flex-grow: 1;\n",
       "}\n",
       "\n",
       "#sk-container-id-1 div.sk-parallel {\n",
       "  display: flex;\n",
       "  align-items: stretch;\n",
       "  justify-content: center;\n",
       "  background-color: var(--sklearn-color-background);\n",
       "  position: relative;\n",
       "}\n",
       "\n",
       "#sk-container-id-1 div.sk-parallel-item {\n",
       "  display: flex;\n",
       "  flex-direction: column;\n",
       "}\n",
       "\n",
       "#sk-container-id-1 div.sk-parallel-item:first-child::after {\n",
       "  align-self: flex-end;\n",
       "  width: 50%;\n",
       "}\n",
       "\n",
       "#sk-container-id-1 div.sk-parallel-item:last-child::after {\n",
       "  align-self: flex-start;\n",
       "  width: 50%;\n",
       "}\n",
       "\n",
       "#sk-container-id-1 div.sk-parallel-item:only-child::after {\n",
       "  width: 0;\n",
       "}\n",
       "\n",
       "/* Serial-specific style estimator block */\n",
       "\n",
       "#sk-container-id-1 div.sk-serial {\n",
       "  display: flex;\n",
       "  flex-direction: column;\n",
       "  align-items: center;\n",
       "  background-color: var(--sklearn-color-background);\n",
       "  padding-right: 1em;\n",
       "  padding-left: 1em;\n",
       "}\n",
       "\n",
       "\n",
       "/* Toggleable style: style used for estimator/Pipeline/ColumnTransformer box that is\n",
       "clickable and can be expanded/collapsed.\n",
       "- Pipeline and ColumnTransformer use this feature and define the default style\n",
       "- Estimators will overwrite some part of the style using the `sk-estimator` class\n",
       "*/\n",
       "\n",
       "/* Pipeline and ColumnTransformer style (default) */\n",
       "\n",
       "#sk-container-id-1 div.sk-toggleable {\n",
       "  /* Default theme specific background. It is overwritten whether we have a\n",
       "  specific estimator or a Pipeline/ColumnTransformer */\n",
       "  background-color: var(--sklearn-color-background);\n",
       "}\n",
       "\n",
       "/* Toggleable label */\n",
       "#sk-container-id-1 label.sk-toggleable__label {\n",
       "  cursor: pointer;\n",
       "  display: block;\n",
       "  width: 100%;\n",
       "  margin-bottom: 0;\n",
       "  padding: 0.5em;\n",
       "  box-sizing: border-box;\n",
       "  text-align: center;\n",
       "}\n",
       "\n",
       "#sk-container-id-1 label.sk-toggleable__label-arrow:before {\n",
       "  /* Arrow on the left of the label */\n",
       "  content: \"▸\";\n",
       "  float: left;\n",
       "  margin-right: 0.25em;\n",
       "  color: var(--sklearn-color-icon);\n",
       "}\n",
       "\n",
       "#sk-container-id-1 label.sk-toggleable__label-arrow:hover:before {\n",
       "  color: var(--sklearn-color-text);\n",
       "}\n",
       "\n",
       "/* Toggleable content - dropdown */\n",
       "\n",
       "#sk-container-id-1 div.sk-toggleable__content {\n",
       "  max-height: 0;\n",
       "  max-width: 0;\n",
       "  overflow: hidden;\n",
       "  text-align: left;\n",
       "  /* unfitted */\n",
       "  background-color: var(--sklearn-color-unfitted-level-0);\n",
       "}\n",
       "\n",
       "#sk-container-id-1 div.sk-toggleable__content.fitted {\n",
       "  /* fitted */\n",
       "  background-color: var(--sklearn-color-fitted-level-0);\n",
       "}\n",
       "\n",
       "#sk-container-id-1 div.sk-toggleable__content pre {\n",
       "  margin: 0.2em;\n",
       "  border-radius: 0.25em;\n",
       "  color: var(--sklearn-color-text);\n",
       "  /* unfitted */\n",
       "  background-color: var(--sklearn-color-unfitted-level-0);\n",
       "}\n",
       "\n",
       "#sk-container-id-1 div.sk-toggleable__content.fitted pre {\n",
       "  /* unfitted */\n",
       "  background-color: var(--sklearn-color-fitted-level-0);\n",
       "}\n",
       "\n",
       "#sk-container-id-1 input.sk-toggleable__control:checked~div.sk-toggleable__content {\n",
       "  /* Expand drop-down */\n",
       "  max-height: 200px;\n",
       "  max-width: 100%;\n",
       "  overflow: auto;\n",
       "}\n",
       "\n",
       "#sk-container-id-1 input.sk-toggleable__control:checked~label.sk-toggleable__label-arrow:before {\n",
       "  content: \"▾\";\n",
       "}\n",
       "\n",
       "/* Pipeline/ColumnTransformer-specific style */\n",
       "\n",
       "#sk-container-id-1 div.sk-label input.sk-toggleable__control:checked~label.sk-toggleable__label {\n",
       "  color: var(--sklearn-color-text);\n",
       "  background-color: var(--sklearn-color-unfitted-level-2);\n",
       "}\n",
       "\n",
       "#sk-container-id-1 div.sk-label.fitted input.sk-toggleable__control:checked~label.sk-toggleable__label {\n",
       "  background-color: var(--sklearn-color-fitted-level-2);\n",
       "}\n",
       "\n",
       "/* Estimator-specific style */\n",
       "\n",
       "/* Colorize estimator box */\n",
       "#sk-container-id-1 div.sk-estimator input.sk-toggleable__control:checked~label.sk-toggleable__label {\n",
       "  /* unfitted */\n",
       "  background-color: var(--sklearn-color-unfitted-level-2);\n",
       "}\n",
       "\n",
       "#sk-container-id-1 div.sk-estimator.fitted input.sk-toggleable__control:checked~label.sk-toggleable__label {\n",
       "  /* fitted */\n",
       "  background-color: var(--sklearn-color-fitted-level-2);\n",
       "}\n",
       "\n",
       "#sk-container-id-1 div.sk-label label.sk-toggleable__label,\n",
       "#sk-container-id-1 div.sk-label label {\n",
       "  /* The background is the default theme color */\n",
       "  color: var(--sklearn-color-text-on-default-background);\n",
       "}\n",
       "\n",
       "/* On hover, darken the color of the background */\n",
       "#sk-container-id-1 div.sk-label:hover label.sk-toggleable__label {\n",
       "  color: var(--sklearn-color-text);\n",
       "  background-color: var(--sklearn-color-unfitted-level-2);\n",
       "}\n",
       "\n",
       "/* Label box, darken color on hover, fitted */\n",
       "#sk-container-id-1 div.sk-label.fitted:hover label.sk-toggleable__label.fitted {\n",
       "  color: var(--sklearn-color-text);\n",
       "  background-color: var(--sklearn-color-fitted-level-2);\n",
       "}\n",
       "\n",
       "/* Estimator label */\n",
       "\n",
       "#sk-container-id-1 div.sk-label label {\n",
       "  font-family: monospace;\n",
       "  font-weight: bold;\n",
       "  display: inline-block;\n",
       "  line-height: 1.2em;\n",
       "}\n",
       "\n",
       "#sk-container-id-1 div.sk-label-container {\n",
       "  text-align: center;\n",
       "}\n",
       "\n",
       "/* Estimator-specific */\n",
       "#sk-container-id-1 div.sk-estimator {\n",
       "  font-family: monospace;\n",
       "  border: 1px dotted var(--sklearn-color-border-box);\n",
       "  border-radius: 0.25em;\n",
       "  box-sizing: border-box;\n",
       "  margin-bottom: 0.5em;\n",
       "  /* unfitted */\n",
       "  background-color: var(--sklearn-color-unfitted-level-0);\n",
       "}\n",
       "\n",
       "#sk-container-id-1 div.sk-estimator.fitted {\n",
       "  /* fitted */\n",
       "  background-color: var(--sklearn-color-fitted-level-0);\n",
       "}\n",
       "\n",
       "/* on hover */\n",
       "#sk-container-id-1 div.sk-estimator:hover {\n",
       "  /* unfitted */\n",
       "  background-color: var(--sklearn-color-unfitted-level-2);\n",
       "}\n",
       "\n",
       "#sk-container-id-1 div.sk-estimator.fitted:hover {\n",
       "  /* fitted */\n",
       "  background-color: var(--sklearn-color-fitted-level-2);\n",
       "}\n",
       "\n",
       "/* Specification for estimator info (e.g. \"i\" and \"?\") */\n",
       "\n",
       "/* Common style for \"i\" and \"?\" */\n",
       "\n",
       ".sk-estimator-doc-link,\n",
       "a:link.sk-estimator-doc-link,\n",
       "a:visited.sk-estimator-doc-link {\n",
       "  float: right;\n",
       "  font-size: smaller;\n",
       "  line-height: 1em;\n",
       "  font-family: monospace;\n",
       "  background-color: var(--sklearn-color-background);\n",
       "  border-radius: 1em;\n",
       "  height: 1em;\n",
       "  width: 1em;\n",
       "  text-decoration: none !important;\n",
       "  margin-left: 1ex;\n",
       "  /* unfitted */\n",
       "  border: var(--sklearn-color-unfitted-level-1) 1pt solid;\n",
       "  color: var(--sklearn-color-unfitted-level-1);\n",
       "}\n",
       "\n",
       ".sk-estimator-doc-link.fitted,\n",
       "a:link.sk-estimator-doc-link.fitted,\n",
       "a:visited.sk-estimator-doc-link.fitted {\n",
       "  /* fitted */\n",
       "  border: var(--sklearn-color-fitted-level-1) 1pt solid;\n",
       "  color: var(--sklearn-color-fitted-level-1);\n",
       "}\n",
       "\n",
       "/* On hover */\n",
       "div.sk-estimator:hover .sk-estimator-doc-link:hover,\n",
       ".sk-estimator-doc-link:hover,\n",
       "div.sk-label-container:hover .sk-estimator-doc-link:hover,\n",
       ".sk-estimator-doc-link:hover {\n",
       "  /* unfitted */\n",
       "  background-color: var(--sklearn-color-unfitted-level-3);\n",
       "  color: var(--sklearn-color-background);\n",
       "  text-decoration: none;\n",
       "}\n",
       "\n",
       "div.sk-estimator.fitted:hover .sk-estimator-doc-link.fitted:hover,\n",
       ".sk-estimator-doc-link.fitted:hover,\n",
       "div.sk-label-container:hover .sk-estimator-doc-link.fitted:hover,\n",
       ".sk-estimator-doc-link.fitted:hover {\n",
       "  /* fitted */\n",
       "  background-color: var(--sklearn-color-fitted-level-3);\n",
       "  color: var(--sklearn-color-background);\n",
       "  text-decoration: none;\n",
       "}\n",
       "\n",
       "/* Span, style for the box shown on hovering the info icon */\n",
       ".sk-estimator-doc-link span {\n",
       "  display: none;\n",
       "  z-index: 9999;\n",
       "  position: relative;\n",
       "  font-weight: normal;\n",
       "  right: .2ex;\n",
       "  padding: .5ex;\n",
       "  margin: .5ex;\n",
       "  width: min-content;\n",
       "  min-width: 20ex;\n",
       "  max-width: 50ex;\n",
       "  color: var(--sklearn-color-text);\n",
       "  box-shadow: 2pt 2pt 4pt #999;\n",
       "  /* unfitted */\n",
       "  background: var(--sklearn-color-unfitted-level-0);\n",
       "  border: .5pt solid var(--sklearn-color-unfitted-level-3);\n",
       "}\n",
       "\n",
       ".sk-estimator-doc-link.fitted span {\n",
       "  /* fitted */\n",
       "  background: var(--sklearn-color-fitted-level-0);\n",
       "  border: var(--sklearn-color-fitted-level-3);\n",
       "}\n",
       "\n",
       ".sk-estimator-doc-link:hover span {\n",
       "  display: block;\n",
       "}\n",
       "\n",
       "/* \"?\"-specific style due to the `<a>` HTML tag */\n",
       "\n",
       "#sk-container-id-1 a.estimator_doc_link {\n",
       "  float: right;\n",
       "  font-size: 1rem;\n",
       "  line-height: 1em;\n",
       "  font-family: monospace;\n",
       "  background-color: var(--sklearn-color-background);\n",
       "  border-radius: 1rem;\n",
       "  height: 1rem;\n",
       "  width: 1rem;\n",
       "  text-decoration: none;\n",
       "  /* unfitted */\n",
       "  color: var(--sklearn-color-unfitted-level-1);\n",
       "  border: var(--sklearn-color-unfitted-level-1) 1pt solid;\n",
       "}\n",
       "\n",
       "#sk-container-id-1 a.estimator_doc_link.fitted {\n",
       "  /* fitted */\n",
       "  border: var(--sklearn-color-fitted-level-1) 1pt solid;\n",
       "  color: var(--sklearn-color-fitted-level-1);\n",
       "}\n",
       "\n",
       "/* On hover */\n",
       "#sk-container-id-1 a.estimator_doc_link:hover {\n",
       "  /* unfitted */\n",
       "  background-color: var(--sklearn-color-unfitted-level-3);\n",
       "  color: var(--sklearn-color-background);\n",
       "  text-decoration: none;\n",
       "}\n",
       "\n",
       "#sk-container-id-1 a.estimator_doc_link.fitted:hover {\n",
       "  /* fitted */\n",
       "  background-color: var(--sklearn-color-fitted-level-3);\n",
       "}\n",
       "</style><div id=\"sk-container-id-1\" class=\"sk-top-container\"><div class=\"sk-text-repr-fallback\"><pre>LinearRegression()</pre><b>In a Jupyter environment, please rerun this cell to show the HTML representation or trust the notebook. <br />On GitHub, the HTML representation is unable to render, please try loading this page with nbviewer.org.</b></div><div class=\"sk-container\" hidden><div class=\"sk-item\"><div class=\"sk-estimator fitted sk-toggleable\"><input class=\"sk-toggleable__control sk-hidden--visually\" id=\"sk-estimator-id-1\" type=\"checkbox\" checked><label for=\"sk-estimator-id-1\" class=\"sk-toggleable__label fitted sk-toggleable__label-arrow fitted\">&nbsp;&nbsp;LinearRegression<a class=\"sk-estimator-doc-link fitted\" rel=\"noreferrer\" target=\"_blank\" href=\"https://scikit-learn.org/1.5/modules/generated/sklearn.linear_model.LinearRegression.html\">?<span>Documentation for LinearRegression</span></a><span class=\"sk-estimator-doc-link fitted\">i<span>Fitted</span></span></label><div class=\"sk-toggleable__content fitted\"><pre>LinearRegression()</pre></div> </div></div></div></div>"
      ],
      "text/plain": [
       "LinearRegression()"
      ]
     },
     "execution_count": 25,
     "metadata": {},
     "output_type": "execute_result"
    }
   ],
   "source": [
    "# Y lo entrenamos, con el set de entrenamiento\n",
    "regresion.fit(X_train, y_train)"
   ]
  },
  {
   "cell_type": "code",
   "execution_count": 26,
   "metadata": {
    "ExecuteTime": {
     "end_time": "2024-03-28T18:21:53.637283Z",
     "start_time": "2024-03-28T18:21:53.635040Z"
    }
   },
   "outputs": [
    {
     "name": "stdout",
     "output_type": "stream",
     "text": [
      "El valor de la intersección de la recta sera 99.52593616837214\n",
      "El valor del coeficiente de la recta sera [-20.75590118]\n",
      "La ecuación de la recta entonces sera la siguiente: y = 99.52593616837214+(-20.755901181716165)X\n"
     ]
    }
   ],
   "source": [
    "# Una vez entrenado, podemos ver diferente información del modelo:\n",
    "print(f\"El valor de la intersección de la recta sera {regresion.intercept_ }\")\n",
    "print(f\"El valor del coeficiente de la recta sera {regresion.coef_ }\")\n",
    "print(f\"La ecuación de la recta entonces sera la siguiente: y = {regresion.intercept_ }+({regresion.coef_[0]})X\")"
   ]
  },
  {
   "cell_type": "code",
   "execution_count": 27,
   "metadata": {
    "ExecuteTime": {
     "end_time": "2024-03-28T18:21:53.692813Z",
     "start_time": "2024-03-28T18:21:53.690051Z"
    }
   },
   "outputs": [
    {
     "name": "stdout",
     "output_type": "stream",
     "text": [
      "El coeficiente de Pearson es 0.973206000703601\n"
     ]
    }
   ],
   "source": [
    "print(f\"El coeficiente de Pearson es {regresion.score(X_train, y_train)}\")"
   ]
  },
  {
   "cell_type": "code",
   "execution_count": 28,
   "metadata": {
    "ExecuteTime": {
     "end_time": "2024-03-28T18:21:53.787617Z",
     "start_time": "2024-03-28T18:21:53.784367Z"
    }
   },
   "outputs": [
    {
     "name": "stdout",
     "output_type": "stream",
     "text": [
      "Desvío estándar del modelo 4.00958477124656\n"
     ]
    }
   ],
   "source": [
    "# Calculamos el desvío estándar del modelo\n",
    "std_dev_model = np.sqrt((np.sum((y_train - regresion.predict(X_train))**2))/(y_train.size - 2))\n",
    "print(f\"Desvío estándar del modelo {std_dev_model}\")"
   ]
  },
  {
   "cell_type": "code",
   "execution_count": 29,
   "metadata": {
    "ExecuteTime": {
     "end_time": "2024-03-28T18:21:53.947678Z",
     "start_time": "2024-03-28T18:21:53.839927Z"
    }
   },
   "outputs": [
    {
     "data": {
      "image/png": "[encoded data removed]",
      "text/plain": [
       "<Figure size 700x500 with 1 Axes>"
      ]
     },
     "metadata": {},
     "output_type": "display_data"
    }
   ],
   "source": [
    "# Y si lo graficamos? Graficar siempre nos dara una mejor idea de lo que sucede\n",
    "plt.figure(figsize=(7, 5))\n",
    "plt.title('Concentración de droga vs. tiempo', fontsize=16)\n",
    "plt.xlabel('Tiempo [h]', fontsize=14)\n",
    "plt.ylabel('Concentración [mg/L]', fontsize=14)\n",
    "plt.tick_params(axis='x', labelsize=12)\n",
    "plt.tick_params(axis='y', labelsize=12)\n",
    "\n",
    "plt.scatter(X_train, y_train, color='r', marker=\"o\", s=60)\n",
    "plt.plot(X_train, regresion.predict(X_train), color=\"b\", linewidth=2)\n",
    "\n",
    "plt.ylim(0)  # Establece el límite inferior del eje y en cero\n",
    "plt.show()"
   ]
  },
  {
   "cell_type": "code",
   "execution_count": 30,
   "metadata": {
    "ExecuteTime": {
     "end_time": "2024-03-28T18:21:54.106136Z",
     "start_time": "2024-03-28T18:21:53.950255Z"
    }
   },
   "outputs": [
    {
     "data": {
      "image/png": "[encoded data removed]",
      "text/plain": [
       "<Figure size 700x500 with 1 Axes>"
      ]
     },
     "metadata": {},
     "output_type": "display_data"
    }
   ],
   "source": [
    "# Convertir X_train en un vector unidimensional\n",
    "X_train = X_train.to_numpy().flatten()\n",
    "\n",
    "# Regresión lineal usando Numpy\n",
    "regression = np.polyfit(X_train, y_train, 1)\n",
    "regression_line = np.polyval(regression, X_train)\n",
    "\n",
    "# Calcular las distancias entre los puntos y la línea de regresión\n",
    "distances = np.abs(regression_line - y_train)\n",
    "\n",
    "# Graficar los puntos\n",
    "plt.figure(figsize=(7, 5))\n",
    "plt.scatter(X_train, y_train, color='r', s=20)\n",
    "\n",
    "# Graficar la línea de regresión\n",
    "plt.plot(X_train, regression_line, color='b', linewidth=2)\n",
    "\n",
    "# Graficar las líneas perpendiculares desde cada punto a la línea de regresión\n",
    "for x, y, distance in zip(X_train, y_train, distances):\n",
    "    plt.plot([x, x], [y, regression[0]*x + regression[1]], color='black', linestyle='-')\n",
    "    plt.text(x, y, f'{distance:.0f}', ha='left', va=\"baseline\", fontsize=16)\n",
    "\n",
    "# Configuraciones adicionales\n",
    "plt.title(\"Distancia entre la línea de regresión y los puntos\", fontsize=16)\n",
    "plt.xlabel('Tiempo [h]', fontsize=14)\n",
    "plt.ylabel('Concentración [mg/L]', fontsize=14)\n",
    "plt.tick_params(axis='x', labelsize=12)\n",
    "plt.tick_params(axis='y', labelsize=12)\n",
    "\n",
    "# Mostrar el gráfico\n",
    "plt.show()"
   ]
  },
  {
   "cell_type": "markdown",
   "metadata": {},
   "source": [
    "----\n",
    "## Metricas\n",
    "\n",
    "Entrenamos el modelo, pero para validar si está bien entrenado, debemos usar el dataset de testeo. \n",
    "\n",
    "Vamos a aplicar las siguientes métricas de evaluación usando scikit-learn:\n",
    "- R2\n",
    "- MAE\n",
    "- MSE\n",
    "- RMSE\n",
    "- MAPE\n",
    "- MPE"
   ]
  },
  {
   "cell_type": "code",
   "execution_count": 31,
   "metadata": {
    "ExecuteTime": {
     "end_time": "2024-03-28T18:21:54.111766Z",
     "start_time": "2024-03-28T18:21:54.108927Z"
    }
   },
   "outputs": [],
   "source": [
    "#Primero obtenemos las predicciones del modelo\n",
    "y_pred = regresion.predict(X_test)"
   ]
  },
  {
   "cell_type": "code",
   "execution_count": 32,
   "metadata": {
    "ExecuteTime": {
     "end_time": "2024-03-28T18:21:54.115263Z",
     "start_time": "2024-03-28T18:21:54.112882Z"
    }
   },
   "outputs": [],
   "source": [
    "from sklearn.metrics import r2_score, mean_absolute_error, mean_squared_error, mean_absolute_percentage_error"
   ]
  },
  {
   "cell_type": "code",
   "execution_count": 33,
   "metadata": {
    "ExecuteTime": {
     "end_time": "2024-03-28T18:21:54.149037Z",
     "start_time": "2024-03-28T18:21:54.146549Z"
    }
   },
   "outputs": [],
   "source": [
    "#scikit-learn no tiene el error porcentual medio (MPE) lo vamos a crear nosotros\n",
    "def mean_porcentual_error(yreal, ypred):\n",
    "\n",
    "    return np.mean((yreal-ypred)/yreal)"
   ]
  },
  {
   "cell_type": "code",
   "execution_count": 34,
   "metadata": {
    "ExecuteTime": {
     "end_time": "2024-03-28T18:21:54.187737Z",
     "start_time": "2024-03-28T18:21:54.183966Z"
    },
    "collapsed": false,
    "jupyter": {
     "outputs_hidden": false
    }
   },
   "outputs": [],
   "source": [
    "r2 = r2_score(y_test, y_pred)\n",
    "mae = mean_absolute_error(y_test, y_pred)\n",
    "mse = mean_squared_error(y_test, y_pred)\n",
    "rmse = np.sqrt(mse)\n",
    "mape = mean_absolute_percentage_error(y_test, y_pred)\n",
    "mpe = mean_porcentual_error(y_test, y_pred)"
   ]
  },
  {
   "cell_type": "code",
   "execution_count": 35,
   "metadata": {
    "ExecuteTime": {
     "end_time": "2024-03-28T18:21:54.302959Z",
     "start_time": "2024-03-28T18:21:54.300171Z"
    }
   },
   "outputs": [
    {
     "name": "stdout",
     "output_type": "stream",
     "text": [
      "R-cuadrado en test: 0.9485007402398677\n",
      "Error absoluto medio: 3.928969082277494\n",
      "Error cuadratico medio: 24.514257040665704\n",
      "Raiz de error cuadratico medio: 4.951187437440205\n",
      "Error absoluto porcentual medio: 8.26%\n",
      "Error porcentual medio: -2.63%\n"
     ]
    }
   ],
   "source": [
    "print(\"R-cuadrado en test:\", r2)\n",
    "print(\"Error absoluto medio:\", mae)\n",
    "print(\"Error cuadratico medio:\", mse)\n",
    "print(\"Raiz de error cuadratico medio:\", rmse)\n",
    "print(f\"Error absoluto porcentual medio: {mape*100:.2f}%\")\n",
    "print(f\"Error porcentual medio: {mpe*100:.2f}%\")"
   ]
  },
  {
   "cell_type": "markdown",
   "metadata": {},
   "source": [
    "Estas no son las únicas métricas que se pueden calcular. Scikit-learn documenta varias [métricas de regresión](https://scikit-learn.org/stable/modules/model_evaluation.html#regression-metrics)\n",
    "\n",
    "Una vez que tenemos el modelo, y estamos conforme, podemos guardarlo:"
   ]
  },
  {
   "cell_type": "code",
   "execution_count": 36,
   "metadata": {
    "ExecuteTime": {
     "end_time": "2024-03-28T18:21:54.358215Z",
     "start_time": "2024-03-28T18:21:54.351510Z"
    }
   },
   "outputs": [],
   "source": [
    "# Podemos utilizar pickle, existen otras herramientas, pero con esto bastará.\n",
    "import pickle\n",
    "\n",
    "with open('modelo_regresion_lineal.pkl', 'wb') as archivo:\n",
    "    pickle.dump(regresion, archivo)"
   ]
  },
  {
   "cell_type": "code",
   "execution_count": 37,
   "metadata": {
    "ExecuteTime": {
     "end_time": "2024-03-28T18:21:54.406232Z",
     "start_time": "2024-03-28T18:21:54.403956Z"
    }
   },
   "outputs": [],
   "source": [
    "#Podemos llamarlo para usarlo con otros valores y predecir según lo que nosotros queremos.\n",
    "with open('modelo_regresion_lineal.pkl', 'rb') as archivo:\n",
    "    modelo_cargado = pickle.load(archivo)"
   ]
  },
  {
   "cell_type": "code",
   "execution_count": 38,
   "metadata": {
    "ExecuteTime": {
     "end_time": "2024-03-28T18:21:54.436750Z",
     "start_time": "2024-03-28T18:21:54.432658Z"
    }
   },
   "outputs": [
    {
     "name": "stderr",
     "output_type": "stream",
     "text": [
      "C:\\Users\\m20_d\\anaconda3\\envs\\ia_ceiot10\\lib\\site-packages\\sklearn\\base.py:493: UserWarning: X does not have valid feature names, but LinearRegression was fitted with feature names\n",
      "  warnings.warn(\n"
     ]
    },
    {
     "data": {
      "text/plain": [
       "array([78.77003499, 26.88028203])"
      ]
     },
     "execution_count": 38,
     "metadata": {},
     "output_type": "execute_result"
    }
   ],
   "source": [
    "# Pasándole nuevos datos a por predecir... ¡Ojo con la forma de pasarlos!\n",
    "X_pred = np.array([ [1], [3.5] ]) # Quiero predecir valores para 1 y 3 horas y media\n",
    "\n",
    "predicciones = modelo_cargado.predict(X_pred) \n",
    "predicciones"
   ]
  },
  {
   "cell_type": "markdown",
   "metadata": {},
   "source": [
    "----\n",
    "## Regresión lineal multiple\n",
    "\n",
    "Aunque se usó un ejemplo de una regresión lineal simple, todo lo que vimos sirve exactamente para un problema n-dimensional.\n",
    "\n",
    "Este dataset proviene de [acá](https://www.kaggle.com/datasets/farhanmd29/50-startups). Este conjunto de datos tiene datos recopilados de Nueva York, California y Florida sobre 50 empresas emergentes. Las variables utilizadas en el conjunto de datos son ganancias, gasto en I+D, gasto administrativo y gasto en marketing. \n",
    "\n",
    "Queremos predecir la ganancia usando las otras variables. Pero tenemos un problema inicial"
   ]
  },
  {
   "cell_type": "code",
   "execution_count": 39,
   "metadata": {
    "ExecuteTime": {
     "end_time": "2024-03-28T18:21:54.472793Z",
     "start_time": "2024-03-28T18:21:54.466897Z"
    }
   },
   "outputs": [
    {
     "data": {
      "text/html": [
       "<div>\n",
       "<style scoped>\n",
       "    .dataframe tbody tr th:only-of-type {\n",
       "        vertical-align: middle;\n",
       "    }\n",
       "\n",
       "    .dataframe tbody tr th {\n",
       "        vertical-align: top;\n",
       "    }\n",
       "\n",
       "    .dataframe thead th {\n",
       "        text-align: right;\n",
       "    }\n",
       "</style>\n",
       "<table border=\"1\" class=\"dataframe\">\n",
       "  <thead>\n",
       "    <tr style=\"text-align: right;\">\n",
       "      <th></th>\n",
       "      <th>R&amp;D Spend</th>\n",
       "      <th>Administration</th>\n",
       "      <th>Marketing Spend</th>\n",
       "      <th>State</th>\n",
       "      <th>Profit</th>\n",
       "    </tr>\n",
       "  </thead>\n",
       "  <tbody>\n",
       "    <tr>\n",
       "      <th>0</th>\n",
       "      <td>165349.20</td>\n",
       "      <td>136897.80</td>\n",
       "      <td>471784.10</td>\n",
       "      <td>New York</td>\n",
       "      <td>192261.83</td>\n",
       "    </tr>\n",
       "    <tr>\n",
       "      <th>1</th>\n",
       "      <td>162597.70</td>\n",
       "      <td>151377.59</td>\n",
       "      <td>443898.53</td>\n",
       "      <td>California</td>\n",
       "      <td>191792.06</td>\n",
       "    </tr>\n",
       "    <tr>\n",
       "      <th>2</th>\n",
       "      <td>153441.51</td>\n",
       "      <td>101145.55</td>\n",
       "      <td>407934.54</td>\n",
       "      <td>Florida</td>\n",
       "      <td>191050.39</td>\n",
       "    </tr>\n",
       "    <tr>\n",
       "      <th>3</th>\n",
       "      <td>144372.41</td>\n",
       "      <td>118671.85</td>\n",
       "      <td>383199.62</td>\n",
       "      <td>New York</td>\n",
       "      <td>182901.99</td>\n",
       "    </tr>\n",
       "    <tr>\n",
       "      <th>4</th>\n",
       "      <td>142107.34</td>\n",
       "      <td>91391.77</td>\n",
       "      <td>366168.42</td>\n",
       "      <td>Florida</td>\n",
       "      <td>166187.94</td>\n",
       "    </tr>\n",
       "  </tbody>\n",
       "</table>\n",
       "</div>"
      ],
      "text/plain": [
       "   R&D Spend  Administration  Marketing Spend       State     Profit\n",
       "0  165349.20       136897.80        471784.10    New York  192261.83\n",
       "1  162597.70       151377.59        443898.53  California  191792.06\n",
       "2  153441.51       101145.55        407934.54     Florida  191050.39\n",
       "3  144372.41       118671.85        383199.62    New York  182901.99\n",
       "4  142107.34        91391.77        366168.42     Florida  166187.94"
      ]
     },
     "execution_count": 39,
     "metadata": {},
     "output_type": "execute_result"
    }
   ],
   "source": [
    "dataset = pd.read_csv(\"datasets/50_Startups.csv\") \n",
    "dataset.head() "
   ]
  },
  {
   "cell_type": "code",
   "execution_count": 40,
   "metadata": {
    "ExecuteTime": {
     "end_time": "2024-03-28T18:21:54.508008Z",
     "start_time": "2024-03-28T18:21:54.502974Z"
    }
   },
   "outputs": [
    {
     "name": "stdout",
     "output_type": "stream",
     "text": [
      "<class 'pandas.core.frame.DataFrame'>\n",
      "RangeIndex: 50 entries, 0 to 49\n",
      "Data columns (total 5 columns):\n",
      " #   Column           Non-Null Count  Dtype  \n",
      "---  ------           --------------  -----  \n",
      " 0   R&D Spend        50 non-null     float64\n",
      " 1   Administration   50 non-null     float64\n",
      " 2   Marketing Spend  50 non-null     float64\n",
      " 3   State            50 non-null     object \n",
      " 4   Profit           50 non-null     float64\n",
      "dtypes: float64(4), object(1)\n",
      "memory usage: 2.1+ KB\n"
     ]
    }
   ],
   "source": [
    "dataset.info()"
   ]
  },
  {
   "cell_type": "markdown",
   "metadata": {},
   "source": [
    "Vemos que *State* es una variable categorica."
   ]
  },
  {
   "cell_type": "code",
   "execution_count": 41,
   "metadata": {
    "ExecuteTime": {
     "end_time": "2024-03-28T18:21:54.552694Z",
     "start_time": "2024-03-28T18:21:54.550462Z"
    }
   },
   "outputs": [
    {
     "data": {
      "text/plain": [
       "array(['New York', 'California', 'Florida'], dtype=object)"
      ]
     },
     "execution_count": 41,
     "metadata": {},
     "output_type": "execute_result"
    }
   ],
   "source": [
    "dataset[\"State\"].unique()"
   ]
  },
  {
   "cell_type": "code",
   "execution_count": 42,
   "metadata": {
    "ExecuteTime": {
     "end_time": "2024-03-28T18:21:54.593675Z",
     "start_time": "2024-03-28T18:21:54.591172Z"
    }
   },
   "outputs": [
    {
     "data": {
      "text/plain": [
       "3"
      ]
     },
     "execution_count": 42,
     "metadata": {},
     "output_type": "execute_result"
    }
   ],
   "source": [
    "dataset[\"State\"].nunique()"
   ]
  },
  {
   "cell_type": "code",
   "execution_count": 43,
   "metadata": {
    "ExecuteTime": {
     "end_time": "2024-03-28T18:21:54.653789Z",
     "start_time": "2024-03-28T18:21:54.650988Z"
    }
   },
   "outputs": [
    {
     "data": {
      "text/plain": [
       "State\n",
       "New York      17\n",
       "California    17\n",
       "Florida       16\n",
       "Name: count, dtype: int64"
      ]
     },
     "execution_count": 43,
     "metadata": {},
     "output_type": "execute_result"
    }
   ],
   "source": [
    "dataset[\"State\"].value_counts()"
   ]
  },
  {
   "cell_type": "markdown",
   "metadata": {},
   "source": [
    "Como hacemos para introducir una variable categórica en un modelo matemático? Usando variables Dummies."
   ]
  },
  {
   "cell_type": "code",
   "execution_count": 44,
   "metadata": {
    "ExecuteTime": {
     "end_time": "2024-03-28T18:21:54.669992Z",
     "start_time": "2024-03-28T18:21:54.667417Z"
    }
   },
   "outputs": [],
   "source": [
    "dataset_with_dummies = pd.get_dummies(data=dataset, columns=['State'])"
   ]
  },
  {
   "cell_type": "code",
   "execution_count": 45,
   "metadata": {
    "ExecuteTime": {
     "end_time": "2024-03-28T18:21:54.689271Z",
     "start_time": "2024-03-28T18:21:54.685064Z"
    }
   },
   "outputs": [
    {
     "data": {
      "text/html": [
       "<div>\n",
       "<style scoped>\n",
       "    .dataframe tbody tr th:only-of-type {\n",
       "        vertical-align: middle;\n",
       "    }\n",
       "\n",
       "    .dataframe tbody tr th {\n",
       "        vertical-align: top;\n",
       "    }\n",
       "\n",
       "    .dataframe thead th {\n",
       "        text-align: right;\n",
       "    }\n",
       "</style>\n",
       "<table border=\"1\" class=\"dataframe\">\n",
       "  <thead>\n",
       "    <tr style=\"text-align: right;\">\n",
       "      <th></th>\n",
       "      <th>R&amp;D Spend</th>\n",
       "      <th>Administration</th>\n",
       "      <th>Marketing Spend</th>\n",
       "      <th>Profit</th>\n",
       "      <th>State_California</th>\n",
       "      <th>State_Florida</th>\n",
       "      <th>State_New York</th>\n",
       "    </tr>\n",
       "  </thead>\n",
       "  <tbody>\n",
       "    <tr>\n",
       "      <th>0</th>\n",
       "      <td>165349.20</td>\n",
       "      <td>136897.80</td>\n",
       "      <td>471784.10</td>\n",
       "      <td>192261.83</td>\n",
       "      <td>False</td>\n",
       "      <td>False</td>\n",
       "      <td>True</td>\n",
       "    </tr>\n",
       "    <tr>\n",
       "      <th>1</th>\n",
       "      <td>162597.70</td>\n",
       "      <td>151377.59</td>\n",
       "      <td>443898.53</td>\n",
       "      <td>191792.06</td>\n",
       "      <td>True</td>\n",
       "      <td>False</td>\n",
       "      <td>False</td>\n",
       "    </tr>\n",
       "    <tr>\n",
       "      <th>2</th>\n",
       "      <td>153441.51</td>\n",
       "      <td>101145.55</td>\n",
       "      <td>407934.54</td>\n",
       "      <td>191050.39</td>\n",
       "      <td>False</td>\n",
       "      <td>True</td>\n",
       "      <td>False</td>\n",
       "    </tr>\n",
       "    <tr>\n",
       "      <th>3</th>\n",
       "      <td>144372.41</td>\n",
       "      <td>118671.85</td>\n",
       "      <td>383199.62</td>\n",
       "      <td>182901.99</td>\n",
       "      <td>False</td>\n",
       "      <td>False</td>\n",
       "      <td>True</td>\n",
       "    </tr>\n",
       "    <tr>\n",
       "      <th>4</th>\n",
       "      <td>142107.34</td>\n",
       "      <td>91391.77</td>\n",
       "      <td>366168.42</td>\n",
       "      <td>166187.94</td>\n",
       "      <td>False</td>\n",
       "      <td>True</td>\n",
       "      <td>False</td>\n",
       "    </tr>\n",
       "  </tbody>\n",
       "</table>\n",
       "</div>"
      ],
      "text/plain": [
       "   R&D Spend  Administration  Marketing Spend     Profit  State_California  \\\n",
       "0  165349.20       136897.80        471784.10  192261.83             False   \n",
       "1  162597.70       151377.59        443898.53  191792.06              True   \n",
       "2  153441.51       101145.55        407934.54  191050.39             False   \n",
       "3  144372.41       118671.85        383199.62  182901.99             False   \n",
       "4  142107.34        91391.77        366168.42  166187.94             False   \n",
       "\n",
       "   State_Florida  State_New York  \n",
       "0          False            True  \n",
       "1          False           False  \n",
       "2           True           False  \n",
       "3          False            True  \n",
       "4           True           False  "
      ]
     },
     "execution_count": 45,
     "metadata": {},
     "output_type": "execute_result"
    }
   ],
   "source": [
    "dataset_with_dummies.head()"
   ]
  },
  {
   "cell_type": "code",
   "execution_count": 46,
   "metadata": {
    "ExecuteTime": {
     "end_time": "2024-03-28T18:21:54.745933Z",
     "start_time": "2024-03-28T18:21:54.740895Z"
    }
   },
   "outputs": [
    {
     "data": {
      "text/html": [
       "<div>\n",
       "<style scoped>\n",
       "    .dataframe tbody tr th:only-of-type {\n",
       "        vertical-align: middle;\n",
       "    }\n",
       "\n",
       "    .dataframe tbody tr th {\n",
       "        vertical-align: top;\n",
       "    }\n",
       "\n",
       "    .dataframe thead th {\n",
       "        text-align: right;\n",
       "    }\n",
       "</style>\n",
       "<table border=\"1\" class=\"dataframe\">\n",
       "  <thead>\n",
       "    <tr style=\"text-align: right;\">\n",
       "      <th></th>\n",
       "      <th>R&amp;D Spend</th>\n",
       "      <th>Administration</th>\n",
       "      <th>Marketing Spend</th>\n",
       "      <th>Profit</th>\n",
       "      <th>State_California</th>\n",
       "      <th>State_Florida</th>\n",
       "      <th>State_New York</th>\n",
       "    </tr>\n",
       "  </thead>\n",
       "  <tbody>\n",
       "    <tr>\n",
       "      <th>0</th>\n",
       "      <td>165349.20</td>\n",
       "      <td>136897.80</td>\n",
       "      <td>471784.10</td>\n",
       "      <td>192261.83</td>\n",
       "      <td>0.0</td>\n",
       "      <td>0.0</td>\n",
       "      <td>1.0</td>\n",
       "    </tr>\n",
       "    <tr>\n",
       "      <th>1</th>\n",
       "      <td>162597.70</td>\n",
       "      <td>151377.59</td>\n",
       "      <td>443898.53</td>\n",
       "      <td>191792.06</td>\n",
       "      <td>1.0</td>\n",
       "      <td>0.0</td>\n",
       "      <td>0.0</td>\n",
       "    </tr>\n",
       "    <tr>\n",
       "      <th>2</th>\n",
       "      <td>153441.51</td>\n",
       "      <td>101145.55</td>\n",
       "      <td>407934.54</td>\n",
       "      <td>191050.39</td>\n",
       "      <td>0.0</td>\n",
       "      <td>1.0</td>\n",
       "      <td>0.0</td>\n",
       "    </tr>\n",
       "    <tr>\n",
       "      <th>3</th>\n",
       "      <td>144372.41</td>\n",
       "      <td>118671.85</td>\n",
       "      <td>383199.62</td>\n",
       "      <td>182901.99</td>\n",
       "      <td>0.0</td>\n",
       "      <td>0.0</td>\n",
       "      <td>1.0</td>\n",
       "    </tr>\n",
       "    <tr>\n",
       "      <th>4</th>\n",
       "      <td>142107.34</td>\n",
       "      <td>91391.77</td>\n",
       "      <td>366168.42</td>\n",
       "      <td>166187.94</td>\n",
       "      <td>0.0</td>\n",
       "      <td>1.0</td>\n",
       "      <td>0.0</td>\n",
       "    </tr>\n",
       "  </tbody>\n",
       "</table>\n",
       "</div>"
      ],
      "text/plain": [
       "   R&D Spend  Administration  Marketing Spend     Profit  State_California  \\\n",
       "0  165349.20       136897.80        471784.10  192261.83               0.0   \n",
       "1  162597.70       151377.59        443898.53  191792.06               1.0   \n",
       "2  153441.51       101145.55        407934.54  191050.39               0.0   \n",
       "3  144372.41       118671.85        383199.62  182901.99               0.0   \n",
       "4  142107.34        91391.77        366168.42  166187.94               0.0   \n",
       "\n",
       "   State_Florida  State_New York  \n",
       "0            0.0             1.0  \n",
       "1            0.0             0.0  \n",
       "2            1.0             0.0  \n",
       "3            0.0             1.0  \n",
       "4            1.0             0.0  "
      ]
     },
     "execution_count": 46,
     "metadata": {},
     "output_type": "execute_result"
    }
   ],
   "source": [
    "# Convertimos en floats\n",
    "dataset_with_dummies = dataset_with_dummies.astype('float')\n",
    "dataset_with_dummies.head()"
   ]
  },
  {
   "cell_type": "markdown",
   "metadata": {},
   "source": [
    "Esto lo pueden hacer también con scikit-learn usando LabelEncoder, OneHotEncoder, make_column_transformer."
   ]
  },
  {
   "cell_type": "code",
   "execution_count": 47,
   "metadata": {
    "ExecuteTime": {
     "end_time": "2024-03-28T18:21:54.778970Z",
     "start_time": "2024-03-28T18:21:54.776480Z"
    }
   },
   "outputs": [],
   "source": [
    "#Quitamos una columna de las variables dummy\n",
    "dataset_with_dummies = pd.get_dummies(data=dataset, columns=['State'], drop_first=True)"
   ]
  },
  {
   "cell_type": "code",
   "execution_count": 48,
   "metadata": {
    "ExecuteTime": {
     "end_time": "2024-03-28T18:21:54.851506Z",
     "start_time": "2024-03-28T18:21:54.847151Z"
    }
   },
   "outputs": [
    {
     "data": {
      "text/html": [
       "<div>\n",
       "<style scoped>\n",
       "    .dataframe tbody tr th:only-of-type {\n",
       "        vertical-align: middle;\n",
       "    }\n",
       "\n",
       "    .dataframe tbody tr th {\n",
       "        vertical-align: top;\n",
       "    }\n",
       "\n",
       "    .dataframe thead th {\n",
       "        text-align: right;\n",
       "    }\n",
       "</style>\n",
       "<table border=\"1\" class=\"dataframe\">\n",
       "  <thead>\n",
       "    <tr style=\"text-align: right;\">\n",
       "      <th></th>\n",
       "      <th>R&amp;D Spend</th>\n",
       "      <th>Administration</th>\n",
       "      <th>Marketing Spend</th>\n",
       "      <th>Profit</th>\n",
       "      <th>State_Florida</th>\n",
       "      <th>State_New York</th>\n",
       "    </tr>\n",
       "  </thead>\n",
       "  <tbody>\n",
       "    <tr>\n",
       "      <th>0</th>\n",
       "      <td>165349.20</td>\n",
       "      <td>136897.80</td>\n",
       "      <td>471784.10</td>\n",
       "      <td>192261.83</td>\n",
       "      <td>False</td>\n",
       "      <td>True</td>\n",
       "    </tr>\n",
       "    <tr>\n",
       "      <th>1</th>\n",
       "      <td>162597.70</td>\n",
       "      <td>151377.59</td>\n",
       "      <td>443898.53</td>\n",
       "      <td>191792.06</td>\n",
       "      <td>False</td>\n",
       "      <td>False</td>\n",
       "    </tr>\n",
       "    <tr>\n",
       "      <th>2</th>\n",
       "      <td>153441.51</td>\n",
       "      <td>101145.55</td>\n",
       "      <td>407934.54</td>\n",
       "      <td>191050.39</td>\n",
       "      <td>True</td>\n",
       "      <td>False</td>\n",
       "    </tr>\n",
       "    <tr>\n",
       "      <th>3</th>\n",
       "      <td>144372.41</td>\n",
       "      <td>118671.85</td>\n",
       "      <td>383199.62</td>\n",
       "      <td>182901.99</td>\n",
       "      <td>False</td>\n",
       "      <td>True</td>\n",
       "    </tr>\n",
       "    <tr>\n",
       "      <th>4</th>\n",
       "      <td>142107.34</td>\n",
       "      <td>91391.77</td>\n",
       "      <td>366168.42</td>\n",
       "      <td>166187.94</td>\n",
       "      <td>True</td>\n",
       "      <td>False</td>\n",
       "    </tr>\n",
       "  </tbody>\n",
       "</table>\n",
       "</div>"
      ],
      "text/plain": [
       "   R&D Spend  Administration  Marketing Spend     Profit  State_Florida  \\\n",
       "0  165349.20       136897.80        471784.10  192261.83          False   \n",
       "1  162597.70       151377.59        443898.53  191792.06          False   \n",
       "2  153441.51       101145.55        407934.54  191050.39           True   \n",
       "3  144372.41       118671.85        383199.62  182901.99          False   \n",
       "4  142107.34        91391.77        366168.42  166187.94           True   \n",
       "\n",
       "   State_New York  \n",
       "0            True  \n",
       "1           False  \n",
       "2           False  \n",
       "3            True  \n",
       "4           False  "
      ]
     },
     "execution_count": 48,
     "metadata": {},
     "output_type": "execute_result"
    }
   ],
   "source": [
    "dataset_with_dummies.head()"
   ]
  },
  {
   "cell_type": "code",
   "execution_count": 49,
   "metadata": {
    "ExecuteTime": {
     "end_time": "2024-03-28T18:21:55.047943Z",
     "start_time": "2024-03-28T18:21:54.962411Z"
    },
    "collapsed": false,
    "jupyter": {
     "outputs_hidden": false
    }
   },
   "outputs": [
    {
     "data": {
      "image/png": "[encoded data removed]",
      "text/plain": [
       "<Figure size 700x500 with 1 Axes>"
      ]
     },
     "metadata": {},
     "output_type": "display_data"
    }
   ],
   "source": [
    "plt.figure(figsize=(7, 5))\n",
    "dataset[\"Profit\"].hist(bins=12)\n",
    "plt.show()"
   ]
  },
  {
   "cell_type": "code",
   "execution_count": 50,
   "metadata": {
    "ExecuteTime": {
     "end_time": "2024-03-28T18:21:55.186515Z",
     "start_time": "2024-03-28T18:21:55.085394Z"
    },
    "collapsed": false,
    "jupyter": {
     "outputs_hidden": false
    }
   },
   "outputs": [
    {
     "data": {
      "image/png": "[encoded data removed]",
      "text/plain": [
       "<Figure size 700x500 with 1 Axes>"
      ]
     },
     "metadata": {},
     "output_type": "display_data"
    }
   ],
   "source": [
    "plt.figure(figsize=(7, 5))\n",
    "dataset[\"R&D Spend\"].hist(bins=12)\n",
    "plt.show()"
   ]
  },
  {
   "cell_type": "code",
   "execution_count": 51,
   "metadata": {
    "ExecuteTime": {
     "end_time": "2024-03-28T18:21:55.353010Z",
     "start_time": "2024-03-28T18:21:55.208142Z"
    },
    "collapsed": false,
    "jupyter": {
     "outputs_hidden": false
    }
   },
   "outputs": [
    {
     "data": {
      "image/png": "[encoded data removed]",
      "text/plain": [
       "<Figure size 700x500 with 1 Axes>"
      ]
     },
     "metadata": {},
     "output_type": "display_data"
    }
   ],
   "source": [
    "plt.figure(figsize=(7, 5))\n",
    "dataset[\"Administration\"].hist(bins=12)\n",
    "plt.show()"
   ]
  },
  {
   "cell_type": "code",
   "execution_count": 52,
   "metadata": {
    "ExecuteTime": {
     "end_time": "2024-03-28T18:21:55.545886Z",
     "start_time": "2024-03-28T18:21:55.368988Z"
    }
   },
   "outputs": [
    {
     "data": {
      "image/png": "[encoded data removed]",
      "text/plain": [
       "<Figure size 700x500 with 2 Axes>"
      ]
     },
     "metadata": {},
     "output_type": "display_data"
    }
   ],
   "source": [
    "# Podemos ver cuál es la relación entre variables, recordemos, es mejor con la variable objetivo, pero malo si es entre variables de entrada....\n",
    "plt.figure(figsize=(7, 5))\n",
    "correlacion_profit = dataset_with_dummies.corr().round(2)\n",
    "sns.heatmap(data=correlacion_profit, annot=True, annot_kws={\"size\": 14})\n",
    "plt.show()"
   ]
  },
  {
   "cell_type": "code",
   "execution_count": 53,
   "metadata": {
    "ExecuteTime": {
     "end_time": "2024-03-28T18:21:59.454314Z",
     "start_time": "2024-03-28T18:21:55.587090Z"
    }
   },
   "outputs": [
    {
     "data": {
      "image/png": "[encoded data removed]",
      "text/plain": [
       "<Figure size 1500x1500 with 42 Axes>"
      ]
     },
     "metadata": {},
     "output_type": "display_data"
    }
   ],
   "source": [
    "sns.pairplot(data=dataset_with_dummies, diag_kind=\"kde\");"
   ]
  },
  {
   "cell_type": "markdown",
   "metadata": {},
   "source": [
    "Porque tengo muchas variables no significa que debo aplicarla al modelo sin ningún criterio. Como vemos, hay variables que están correlacionadas que nos pueden dar problemas.\n",
    "\n",
    "Recordemos la maxima: *Garbage in -> garbage out*.\n",
    "\n",
    "Además, muchas variables es problema a futuro. Nos puede dificultar los pipelines y hacer más difícil de entender los datos.\n",
    "\n",
    "### Apliquemos la regresión"
   ]
  },
  {
   "cell_type": "code",
   "execution_count": 54,
   "metadata": {
    "ExecuteTime": {
     "end_time": "2024-03-28T18:21:59.458990Z",
     "start_time": "2024-03-28T18:21:59.455916Z"
    }
   },
   "outputs": [],
   "source": [
    "# Armamos un DataFrame con los features\n",
    "X = dataset_with_dummies.drop(columns='Profit')\n",
    "# Y con la variable dependiente (target)\n",
    "y = dataset_with_dummies[\"Profit\"]"
   ]
  },
  {
   "cell_type": "code",
   "execution_count": 55,
   "metadata": {
    "ExecuteTime": {
     "end_time": "2024-03-28T18:21:59.463152Z",
     "start_time": "2024-03-28T18:21:59.459907Z"
    }
   },
   "outputs": [
    {
     "name": "stdout",
     "output_type": "stream",
     "text": [
      "Dimension de X_train: (35, 5)\n",
      "Valores de y_train: 35\n",
      "Dimension de X_test: (15, 5)\n",
      "Valores de y_test: 15\n"
     ]
    }
   ],
   "source": [
    "# Separando nuestro dataset en entrenamiento y testeo\n",
    "X_train, X_test, y_train, y_test = train_test_split(X, y, test_size=0.3, random_state=42)\n",
    "\n",
    "# Datos de train y de test\n",
    "print(\"Dimension de X_train:\",X_train.shape)\n",
    "print(\"Valores de y_train:\",y_train.size)\n",
    "print(\"Dimension de X_test:\",X_test.shape)\n",
    "print(\"Valores de y_test:\",len(y_test))"
   ]
  },
  {
   "cell_type": "markdown",
   "metadata": {
    "collapsed": false,
    "jupyter": {
     "outputs_hidden": false
    }
   },
   "source": [
    "Los valores de los atributos numéricos son de similar escala, pero las variables dummies están a muy diferente escala, apliquemos un método de [estandarización](https://scikit-learn.org/stable/modules/generated/sklearn.preprocessing.StandardScaler.html): "
   ]
  },
  {
   "cell_type": "code",
   "execution_count": 56,
   "metadata": {
    "ExecuteTime": {
     "end_time": "2024-03-28T18:21:59.465680Z",
     "start_time": "2024-03-28T18:21:59.464231Z"
    },
    "collapsed": false,
    "jupyter": {
     "outputs_hidden": false
    }
   },
   "outputs": [],
   "source": [
    "from sklearn.preprocessing import StandardScaler"
   ]
  },
  {
   "cell_type": "code",
   "execution_count": 57,
   "metadata": {
    "ExecuteTime": {
     "end_time": "2024-03-28T18:21:59.469342Z",
     "start_time": "2024-03-28T18:21:59.466299Z"
    },
    "collapsed": false,
    "jupyter": {
     "outputs_hidden": false
    }
   },
   "outputs": [
    {
     "name": "stdout",
     "output_type": "stream",
     "text": [
      "Las medias del escalador es [7.32159386e+04 1.23095166e+05 2.26343801e+05 3.42857143e-01\n",
      " 3.14285714e-01]\n"
     ]
    }
   ],
   "source": [
    "sc_X = StandardScaler()\n",
    "\n",
    "X_train_scaled = sc_X.fit_transform(X_train)\n",
    "\n",
    "print(f\"Las medias del escalador es {sc_X.mean_}\")"
   ]
  },
  {
   "cell_type": "code",
   "execution_count": 58,
   "metadata": {
    "ExecuteTime": {
     "end_time": "2024-03-28T18:21:59.472895Z",
     "start_time": "2024-03-28T18:21:59.469979Z"
    },
    "collapsed": false,
    "jupyter": {
     "outputs_hidden": false
    }
   },
   "outputs": [
    {
     "name": "stdout",
     "output_type": "stream",
     "text": [
      "Los desvío estándar del escalador es [4.68882205e+04 2.54624539e+04 1.15295288e+05 4.74664221e-01\n",
      " 4.64230766e-01]\n"
     ]
    }
   ],
   "source": [
    "print(f\"Los desvío estándar del escalador es {np.sqrt(sc_X.var_)}\")"
   ]
  },
  {
   "cell_type": "code",
   "execution_count": 59,
   "metadata": {
    "ExecuteTime": {
     "end_time": "2024-03-28T18:21:59.476610Z",
     "start_time": "2024-03-28T18:21:59.473989Z"
    },
    "collapsed": false,
    "jupyter": {
     "outputs_hidden": false
    }
   },
   "outputs": [],
   "source": [
    "# Escalemos el set de testeo\n",
    "X_test_scaled = sc_X.transform(X_test)"
   ]
  },
  {
   "cell_type": "code",
   "execution_count": 60,
   "metadata": {
    "ExecuteTime": {
     "end_time": "2024-03-28T18:21:59.481599Z",
     "start_time": "2024-03-28T18:21:59.477612Z"
    },
    "collapsed": false,
    "jupyter": {
     "outputs_hidden": false
    }
   },
   "outputs": [
    {
     "data": {
      "text/plain": [
       "array([[ 1.30948713,  0.94663711, -0.85542942, -0.72231512, -0.6770032 ],\n",
       "       [-0.96661844, -1.50749007, -0.53664892,  1.38443731, -0.6770032 ],\n",
       "       [-1.53344439, -0.28587018,  0.61382091,  1.38443731, -0.6770032 ],\n",
       "       [-1.56149962,  0.48431128, -1.96316611, -0.72231512, -0.6770032 ],\n",
       "       [ 0.88098185, -0.01878555,  0.30731897, -0.72231512,  1.47709789],\n",
       "       [ 1.06890261, -0.56616681,  0.68205579, -0.72231512, -0.6770032 ],\n",
       "       [ 0.1023108 , -0.05881665,  0.32960808, -0.72231512, -0.6770032 ],\n",
       "       [ 0.0816425 , -0.9352526 , -0.74390717, -0.72231512,  1.47709789],\n",
       "       [-0.57135605,  1.35881459, -0.13483753, -0.72231512, -0.6770032 ],\n",
       "       [-0.25762459,  1.16276121, -1.19801576, -0.72231512,  1.47709789],\n",
       "       [ 1.96495539,  0.54207791,  2.12879731, -0.72231512,  1.47709789],\n",
       "       [-1.0885079 ,  1.24540132, -1.71740828, -0.72231512, -0.6770032 ],\n",
       "       [-0.02363789,  0.18731045,  1.10013177, -0.72231512,  1.47709789],\n",
       "       [-0.37796249, -0.78694993, -0.10155655,  1.38443731, -0.6770032 ],\n",
       "       [ 1.25108099, -0.91430529,  1.18406885, -0.72231512,  1.47709789],\n",
       "       [-0.16231067,  1.17572697, -1.03391408, -0.72231512,  1.47709789],\n",
       "       [ 0.58556331, -1.22943988,  0.20296362, -0.72231512, -0.6770032 ],\n",
       "       [-0.95017849,  0.1555641 , -0.2187165 ,  1.38443731, -0.6770032 ],\n",
       "       [ 1.90627327,  1.11075012,  1.88693513, -0.72231512, -0.6770032 ],\n",
       "       [ 0.11033755,  1.20484317,  0.63656972, -0.72231512,  1.47709789],\n",
       "       [ 1.71099629, -0.86203853,  1.57500573,  1.38443731, -0.6770032 ],\n",
       "       [-1.23080398,  0.1683708 , -1.6549647 , -0.72231512,  1.47709789],\n",
       "       [-0.58014397, -1.49426785, -0.18063324, -0.72231512,  1.47709789],\n",
       "       [-0.12121186, -0.68116515,  0.68020932,  1.38443731, -0.6770032 ],\n",
       "       [-0.94824687, -0.17865978, -0.46444337, -0.72231512, -0.6770032 ],\n",
       "       [ 0.61203307, -0.49096039,  0.0244342 ,  1.38443731, -0.6770032 ],\n",
       "       [ 0.01660591, -0.01226968,  0.66763751,  1.38443731, -0.6770032 ],\n",
       "       [ 0.39526391, -0.35029524,  0.59478379,  1.38443731, -0.6770032 ],\n",
       "       [-1.56149962, -0.24001482, -1.57136293, -0.72231512, -0.6770032 ],\n",
       "       [ 0.06479072, -0.36241072,  0.62726474, -0.72231512, -0.6770032 ],\n",
       "       [ 1.21741006,  0.88109708,  0.84593985,  1.38443731, -0.6770032 ],\n",
       "       [-1.05730198, -1.05667492, -0.67949604, -0.72231512, -0.6770032 ],\n",
       "       [ 0.99656803,  1.3137875 ,  0.26166827,  1.38443731, -0.6770032 ],\n",
       "       [-0.15279783,  2.33875313, -0.93842171,  1.38443731, -0.6770032 ],\n",
       "       [-1.13005672, -2.2443727 , -0.35629124, -0.72231512,  1.47709789]])"
      ]
     },
     "execution_count": 60,
     "metadata": {},
     "output_type": "execute_result"
    }
   ],
   "source": [
    "# StandardScaler transforma el DataFrame en un array de Numpy\n",
    "X_train_scaled"
   ]
  },
  {
   "cell_type": "code",
   "execution_count": 61,
   "metadata": {
    "ExecuteTime": {
     "end_time": "2024-03-28T18:21:59.487398Z",
     "start_time": "2024-03-28T18:21:59.482209Z"
    }
   },
   "outputs": [
    {
     "name": "stdout",
     "output_type": "stream",
     "text": [
      "El valor de la interseccion de la recta sera 111235.21314285714\n",
      "Los valores de los coeficientes de la recta sera [37742.0772359  -2323.64523934  3236.02541427   217.42980741\n",
      "  -573.39775573]\n"
     ]
    }
   ],
   "source": [
    "regresion = LinearRegression()\n",
    "\n",
    "regresion.fit(X_train_scaled, y_train)\n",
    "\n",
    "print(f\"El valor de la interseccion de la recta sera {regresion.intercept_ }\")\n",
    "print(f\"Los valores de los coeficientes de la recta sera {regresion.coef_ }\")"
   ]
  },
  {
   "cell_type": "code",
   "execution_count": 62,
   "metadata": {
    "ExecuteTime": {
     "end_time": "2024-03-28T18:21:59.494124Z",
     "start_time": "2024-03-28T18:21:59.491102Z"
    }
   },
   "outputs": [
    {
     "name": "stdout",
     "output_type": "stream",
     "text": [
      "El coeficiente de Pearson es 0.9511471170962384\n"
     ]
    }
   ],
   "source": [
    "print(f\"El coeficiente de Pearson es {regresion.score(X_train_scaled, y_train)}\")"
   ]
  },
  {
   "cell_type": "code",
   "execution_count": 54,
   "metadata": {
    "ExecuteTime": {
     "end_time": "2024-03-28T18:21:59.497100Z",
     "start_time": "2024-03-28T18:21:59.494667Z"
    }
   },
   "outputs": [
    {
     "name": "stdout",
     "output_type": "stream",
     "text": [
      "Desvío estándar del modelo 9921.136313797115\n"
     ]
    }
   ],
   "source": [
    "# Calculamos el desvío estándar del modelo\n",
    "std_dev_model = np.sqrt((np.sum((y_train - regresion.predict(X_train_scaled))**2))/(y_train.size-6))\n",
    "print(f\"Desvío estándar del modelo {std_dev_model}\")"
   ]
  },
  {
   "cell_type": "markdown",
   "metadata": {
    "collapsed": false,
    "jupyter": {
     "outputs_hidden": false
    }
   },
   "source": [
    "El desvío estándar es con respecto a la escala del target"
   ]
  },
  {
   "cell_type": "code",
   "execution_count": 55,
   "metadata": {
    "ExecuteTime": {
     "end_time": "2024-03-28T18:21:59.500452Z",
     "start_time": "2024-03-28T18:21:59.498111Z"
    },
    "collapsed": false,
    "jupyter": {
     "outputs_hidden": false
    }
   },
   "outputs": [
    {
     "name": "stdout",
     "output_type": "stream",
     "text": [
      "Desvío estándar del label 40858.39426459892\n"
     ]
    }
   ],
   "source": [
    "print(f\"Desvío estándar del label {np.std(y_train)}\")"
   ]
  },
  {
   "cell_type": "code",
   "execution_count": 56,
   "metadata": {
    "ExecuteTime": {
     "end_time": "2024-03-28T18:21:59.503499Z",
     "start_time": "2024-03-28T18:21:59.501624Z"
    }
   },
   "outputs": [],
   "source": [
    "#Otenemos las predicciones del modelo\n",
    "y_pred = regresion.predict(X_test_scaled)"
   ]
  },
  {
   "cell_type": "code",
   "execution_count": 57,
   "metadata": {
    "ExecuteTime": {
     "end_time": "2024-03-28T18:21:59.507428Z",
     "start_time": "2024-03-28T18:21:59.504075Z"
    },
    "collapsed": false,
    "jupyter": {
     "outputs_hidden": false
    }
   },
   "outputs": [],
   "source": [
    "r2 = r2_score(y_test, y_pred)\n",
    "mae = mean_absolute_error(y_test, y_pred)\n",
    "mse = mean_squared_error(y_test, y_pred)\n",
    "rmse = np.sqrt(mse)\n",
    "mape = mean_absolute_percentage_error(y_test, y_pred)\n",
    "mpe = mean_porcentual_error(y_test, y_pred)"
   ]
  },
  {
   "cell_type": "code",
   "execution_count": 58,
   "metadata": {
    "ExecuteTime": {
     "end_time": "2024-03-28T18:21:59.509831Z",
     "start_time": "2024-03-28T18:21:59.508053Z"
    }
   },
   "outputs": [
    {
     "name": "stdout",
     "output_type": "stream",
     "text": [
      "R-cuadrado en test: 0.9397108063355787\n",
      "Error absoluto medio: 7395.433531523905\n",
      "Error cuadratico medio: 84826955.03533405\n",
      "Raiz de error cuadratico medio: 9210.154995185154\n",
      "Error absoluto porcentual medio: 8.93%\n",
      "Error porcentual medio: 0.20%\n"
     ]
    }
   ],
   "source": [
    "print(\"R-cuadrado en test:\", r2)\n",
    "print(\"Error absoluto medio:\", mae)\n",
    "print(\"Error cuadratico medio:\", mse)\n",
    "print(\"Raiz de error cuadratico medio:\", rmse)\n",
    "print(f\"Error absoluto porcentual medio: {mape*100:.2f}%\")\n",
    "print(f\"Error porcentual medio: {mpe*100:.2f}%\")"
   ]
  },
  {
   "cell_type": "markdown",
   "metadata": {},
   "source": [
    "----\n",
    "### Selección de modelo\n",
    "\n",
    "Para seleccionar el modelo, vamos a usar una técnica de eliminación hacia atrás y usando el criterio de información de Aikake (AIC) y criterio de información bayesiano (BIC). Como scikit-learn no nos da esas métricas para calcular, armamos una función que incorpora esto (esta función solo es válida para regresiones lineales).\n",
    "\n",
    "Otra herramienta para hacer selección de modelos es utilizar una libreria especializada en herramientas estadísticas, llamada [statsmodels](https://www.statsmodels.org/stable/index.html) que automáticamente realiza la bondad de ajuste, junto al cálculo de diferentes métricas, que nos puede ayudar. "
   ]
  },
  {
   "cell_type": "code",
   "execution_count": 59,
   "metadata": {
    "ExecuteTime": {
     "end_time": "2024-03-28T18:21:59.512475Z",
     "start_time": "2024-03-28T18:21:59.510340Z"
    }
   },
   "outputs": [],
   "source": [
    "def criterion(X, y, y_pred):\n",
    "    # Agregamos uno porque hay que incorporar a la ordenada al origen\n",
    "    d = X.shape[1]+1\n",
    "    N = X.shape[0]\n",
    "\n",
    "    # Calculamos los residuos al cuadrado\n",
    "    residuals = y - y_pred\n",
    "    Se = np.sum(residuals**2)\n",
    "    # Se/N es la estimación de la varianza si los residuos provienen\n",
    "    # de una normal con media cero.\n",
    "\n",
    "    # Calculamos la estimación del logaritmo de maxima similitud de la regresión lineal\n",
    "    log_lik = np.log(2*np.pi) + np.log(Se/N) + 1\n",
    "    log_lik *= -N/2\n",
    "\n",
    "    #Calculamos ambos criterios\n",
    "    aic = 2*d - 2*log_lik \n",
    "    bic = d*np.log(N) - 2*log_lik\n",
    "   \n",
    "    return aic, bic"
   ]
  },
  {
   "cell_type": "markdown",
   "metadata": {},
   "source": [
    "Armamos el dataset para entrenar los modelos"
   ]
  },
  {
   "cell_type": "code",
   "execution_count": 60,
   "metadata": {
    "ExecuteTime": {
     "end_time": "2024-03-28T18:21:59.514536Z",
     "start_time": "2024-03-28T18:21:59.513010Z"
    },
    "collapsed": false,
    "jupyter": {
     "outputs_hidden": false
    }
   },
   "outputs": [],
   "source": [
    "# Recuperamos las columnas en X_train_scaled y X_test_scaled\n",
    "X_train_scaled = pd.DataFrame(X_train_scaled, columns=X_train.columns)\n",
    "X_test_scaled = pd.DataFrame(X_test_scaled, columns=X_test.columns)"
   ]
  },
  {
   "cell_type": "code",
   "execution_count": 61,
   "metadata": {
    "ExecuteTime": {
     "end_time": "2024-03-28T18:21:59.519519Z",
     "start_time": "2024-03-28T18:21:59.515203Z"
    },
    "collapsed": false,
    "jupyter": {
     "outputs_hidden": false
    }
   },
   "outputs": [
    {
     "data": {
      "text/html": [
       "<div>\n",
       "<style scoped>\n",
       "    .dataframe tbody tr th:only-of-type {\n",
       "        vertical-align: middle;\n",
       "    }\n",
       "\n",
       "    .dataframe tbody tr th {\n",
       "        vertical-align: top;\n",
       "    }\n",
       "\n",
       "    .dataframe thead th {\n",
       "        text-align: right;\n",
       "    }\n",
       "</style>\n",
       "<table border=\"1\" class=\"dataframe\">\n",
       "  <thead>\n",
       "    <tr style=\"text-align: right;\">\n",
       "      <th></th>\n",
       "      <th>R&amp;D Spend</th>\n",
       "      <th>Administration</th>\n",
       "      <th>Marketing Spend</th>\n",
       "      <th>State_Florida</th>\n",
       "      <th>State_New York</th>\n",
       "    </tr>\n",
       "  </thead>\n",
       "  <tbody>\n",
       "    <tr>\n",
       "      <th>0</th>\n",
       "      <td>1.309487</td>\n",
       "      <td>0.946637</td>\n",
       "      <td>-0.855429</td>\n",
       "      <td>-0.722315</td>\n",
       "      <td>-0.677003</td>\n",
       "    </tr>\n",
       "    <tr>\n",
       "      <th>1</th>\n",
       "      <td>-0.966618</td>\n",
       "      <td>-1.507490</td>\n",
       "      <td>-0.536649</td>\n",
       "      <td>1.384437</td>\n",
       "      <td>-0.677003</td>\n",
       "    </tr>\n",
       "    <tr>\n",
       "      <th>2</th>\n",
       "      <td>-1.533444</td>\n",
       "      <td>-0.285870</td>\n",
       "      <td>0.613821</td>\n",
       "      <td>1.384437</td>\n",
       "      <td>-0.677003</td>\n",
       "    </tr>\n",
       "    <tr>\n",
       "      <th>3</th>\n",
       "      <td>-1.561500</td>\n",
       "      <td>0.484311</td>\n",
       "      <td>-1.963166</td>\n",
       "      <td>-0.722315</td>\n",
       "      <td>-0.677003</td>\n",
       "    </tr>\n",
       "    <tr>\n",
       "      <th>4</th>\n",
       "      <td>0.880982</td>\n",
       "      <td>-0.018786</td>\n",
       "      <td>0.307319</td>\n",
       "      <td>-0.722315</td>\n",
       "      <td>1.477098</td>\n",
       "    </tr>\n",
       "  </tbody>\n",
       "</table>\n",
       "</div>"
      ],
      "text/plain": [
       "   R&D Spend  Administration  Marketing Spend  State_Florida  State_New York\n",
       "0   1.309487        0.946637        -0.855429      -0.722315       -0.677003\n",
       "1  -0.966618       -1.507490        -0.536649       1.384437       -0.677003\n",
       "2  -1.533444       -0.285870         0.613821       1.384437       -0.677003\n",
       "3  -1.561500        0.484311        -1.963166      -0.722315       -0.677003\n",
       "4   0.880982       -0.018786         0.307319      -0.722315        1.477098"
      ]
     },
     "execution_count": 61,
     "metadata": {},
     "output_type": "execute_result"
    }
   ],
   "source": [
    "X_train_scaled.head()"
   ]
  },
  {
   "cell_type": "markdown",
   "metadata": {},
   "source": [
    "Las columnas de los arrays `X`, `X_train_scaled`, `X_test_scaled` son:\n",
    "- 0: `'R&D Spend'`\n",
    "- 1: `'Administration'`\n",
    "- 2: `'Marketing Spend'`\n",
    "- 3: `'State_Florida'`\n",
    "- 4: `'State_New_York'`\n",
    "\n",
    "Por lo que seleccionaremos los atributos en función de estos números. \n",
    "\n",
    "Armamos el modelo con todos los atributos y calculamos los criterios, para esto usamos siempre el set de entrenamiento:"
   ]
  },
  {
   "cell_type": "code",
   "execution_count": 62,
   "metadata": {
    "ExecuteTime": {
     "end_time": "2024-03-28T18:21:59.523629Z",
     "start_time": "2024-03-28T18:21:59.520135Z"
    }
   },
   "outputs": [
    {
     "name": "stdout",
     "output_type": "stream",
     "text": [
      "AIC inicial es 749.0\n",
      "BIC inicial es 758.0\n"
     ]
    }
   ],
   "source": [
    "regresion = LinearRegression()\n",
    "regresion.fit(X_train_scaled, y_train)\n",
    "y_pred = regresion.predict(X_train_scaled)\n",
    "\n",
    "aic, bic = criterion(X_train_scaled, y_train, y_pred)\n",
    "\n",
    "print(f\"AIC inicial es {np.round(aic)}\")\n",
    "print(f\"BIC inicial es {np.round(bic)}\")"
   ]
  },
  {
   "cell_type": "markdown",
   "metadata": {},
   "source": [
    "Ahora creaos una función que dado una selección de columnas, entrena un modelo y obtiene AIC y BIC, esto nos va a facilitar ir avanzando paso a paso:"
   ]
  },
  {
   "cell_type": "code",
   "execution_count": 63,
   "metadata": {
    "ExecuteTime": {
     "end_time": "2024-03-28T18:21:59.526123Z",
     "start_time": "2024-03-28T18:21:59.524341Z"
    }
   },
   "outputs": [],
   "source": [
    "def train_reg_model(X, y, columns):\n",
    "\n",
    "    # Quitamos las columnas\n",
    "    X_clear = X.loc[:, columns].copy()\n",
    "    \n",
    "    model = LinearRegression()\n",
    "    model.fit(X_clear, y)\n",
    "    y_pred = model.predict(X_clear)\n",
    "\n",
    "    return criterion(X_clear, y, y_pred)"
   ]
  },
  {
   "cell_type": "markdown",
   "metadata": {},
   "source": [
    "Ahora creamos 5 modelos distintos, quitando para cada caso un atributo, y vemos el resultado de AIC y BIC"
   ]
  },
  {
   "cell_type": "code",
   "execution_count": 64,
   "metadata": {
    "ExecuteTime": {
     "end_time": "2024-03-28T18:21:59.534931Z",
     "start_time": "2024-03-28T18:21:59.526575Z"
    }
   },
   "outputs": [
    {
     "name": "stdout",
     "output_type": "stream",
     "text": [
      "Sacamos a R&D Spend, el modelo nos da:\n",
      "AIC 820.5\n",
      "BIC 828.3\n",
      "Sacamos a Administration, el modelo nos da:\n",
      "AIC 748.8\n",
      "BIC 756.6\n",
      "Sacamos a Marketing Spend, el modelo nos da:\n",
      "AIC 748.7\n",
      "BIC 756.4\n",
      "Sacamos a State_Florida, el modelo nos da:\n",
      "AIC 746.9\n",
      "BIC 754.7\n",
      "Sacamos a State_New York, el modelo nos da:\n",
      "AIC 747.0\n",
      "BIC 754.8\n"
     ]
    }
   ],
   "source": [
    "aic, bic = train_reg_model(X_train_scaled, y_train, ['Administration', 'Marketing Spend', \n",
    "                                                     'State_Florida', 'State_New York'])\n",
    "\n",
    "print(f\"Sacamos a {X_train_scaled.columns[0]}, el modelo nos da:\")\n",
    "print(f\"AIC {np.round(aic, 1)}\")\n",
    "print(f\"BIC {np.round(bic, 1)}\")\n",
    "\n",
    "aic, bic = train_reg_model(X_train_scaled, y_train, ['R&D Spend', 'Marketing Spend', \n",
    "                                                     'State_Florida', 'State_New York'])\n",
    "\n",
    "print(f\"Sacamos a {X_train_scaled.columns[1]}, el modelo nos da:\")\n",
    "print(f\"AIC {np.round(aic, 1)}\")\n",
    "print(f\"BIC {np.round(bic, 1)}\")\n",
    "\n",
    "aic, bic = train_reg_model(X_train_scaled, y_train, ['R&D Spend', 'Administration', \n",
    "                                                     'State_Florida', 'State_New York'])\n",
    "\n",
    "print(f\"Sacamos a {X_train_scaled.columns[2]}, el modelo nos da:\")\n",
    "print(f\"AIC {np.round(aic, 1)}\")\n",
    "print(f\"BIC {np.round(bic, 1)}\")\n",
    "\n",
    "aic, bic = train_reg_model(X_train_scaled, y_train, ['R&D Spend', 'Administration', 'Marketing Spend', \n",
    "                                                     'State_New York'])\n",
    "\n",
    "print(f\"Sacamos a {X_train_scaled.columns[3]}, el modelo nos da:\")\n",
    "print(f\"AIC {np.round(aic, 1)}\")\n",
    "print(f\"BIC {np.round(bic, 1)}\")\n",
    "\n",
    "aic, bic = train_reg_model(X_train_scaled, y_train, ['R&D Spend', 'Administration', 'Marketing Spend', \n",
    "                                                     'State_Florida'])\n",
    "\n",
    "print(f\"Sacamos a {X_train_scaled.columns[4]}, el modelo nos da:\")\n",
    "print(f\"AIC {np.round(aic, 1)}\")\n",
    "print(f\"BIC {np.round(bic, 1)}\")"
   ]
  },
  {
   "cell_type": "markdown",
   "metadata": {},
   "source": [
    "Vemos que quitando `'State_Florida'` el modelo mejora más (tanto viendo AIC como BIC, recordar menor es mejor). Pasa de 749 a 746.9. Seguimos quitando columnas y viendo cuanto mejora el modelo:"
   ]
  },
  {
   "cell_type": "code",
   "execution_count": 65,
   "metadata": {
    "ExecuteTime": {
     "end_time": "2024-03-28T18:21:59.543571Z",
     "start_time": "2024-03-28T18:21:59.535443Z"
    }
   },
   "outputs": [
    {
     "name": "stdout",
     "output_type": "stream",
     "text": [
      "Sacamos a R&D Spend, el modelo nos da:\n",
      "AIC 819.0\n",
      "BIC 825.2\n",
      "Sacamos a Administration, el modelo nos da:\n",
      "AIC 746.8\n",
      "BIC 753.1\n",
      "Sacamos a Marketing Spend, el modelo nos da:\n",
      "AIC 746.9\n",
      "BIC 753.1\n",
      "Sacamos a State_New York, el modelo nos da:\n",
      "AIC 745.1\n",
      "BIC 751.3\n"
     ]
    }
   ],
   "source": [
    "aic, bic = train_reg_model(X_train_scaled, y_train, ['Administration', 'Marketing Spend', 'State_New York'])\n",
    "\n",
    "print(f\"Sacamos a {X_train_scaled.columns[0]}, el modelo nos da:\")\n",
    "print(f\"AIC {np.round(aic, 1)}\")\n",
    "print(f\"BIC {np.round(bic, 1)}\")\n",
    "\n",
    "aic, bic = train_reg_model(X_train_scaled, y_train, ['R&D Spend', 'Marketing Spend', 'State_New York'])\n",
    "\n",
    "print(f\"Sacamos a {X_train_scaled.columns[1]}, el modelo nos da:\")\n",
    "print(f\"AIC {np.round(aic, 1)}\")\n",
    "print(f\"BIC {np.round(bic, 1)}\")\n",
    "\n",
    "aic, bic = train_reg_model(X_train_scaled, y_train, ['R&D Spend', 'Administration', 'State_New York'])\n",
    "\n",
    "print(f\"Sacamos a {X_train_scaled.columns[2]}, el modelo nos da:\")\n",
    "print(f\"AIC {np.round(aic, 1)}\")\n",
    "print(f\"BIC {np.round(bic, 1)}\")\n",
    "\n",
    "aic, bic = train_reg_model(X_train_scaled, y_train, ['R&D Spend', 'Administration', 'Marketing Spend'])\n",
    "\n",
    "print(f\"Sacamos a {X_train_scaled.columns[4]}, el modelo nos da:\")\n",
    "print(f\"AIC {np.round(aic, 1)}\")\n",
    "print(f\"BIC {np.round(bic, 1)}\")"
   ]
  },
  {
   "cell_type": "markdown",
   "metadata": {},
   "source": [
    "Vemos que quitando `'State_New_York'` el modelo mejora más. Quitemos otra columna"
   ]
  },
  {
   "cell_type": "code",
   "execution_count": 66,
   "metadata": {
    "ExecuteTime": {
     "end_time": "2024-03-28T18:21:59.549807Z",
     "start_time": "2024-03-28T18:21:59.544264Z"
    }
   },
   "outputs": [
    {
     "name": "stdout",
     "output_type": "stream",
     "text": [
      "Sacamos a R&D Spend, el modelo nos da:\n",
      "AIC 817.1\n",
      "BIC 821.8\n",
      "Sacamos a Administration, el modelo nos da:\n",
      "AIC 744.9\n",
      "BIC 749.6\n",
      "Sacamos a Marketing Spend, el modelo nos da:\n",
      "AIC 745.2\n",
      "BIC 749.8\n"
     ]
    }
   ],
   "source": [
    "aic, bic = train_reg_model(X_train_scaled, y_train, ['Administration', 'Marketing Spend'])\n",
    "\n",
    "print(f\"Sacamos a {X_train_scaled.columns[0]}, el modelo nos da:\")\n",
    "print(f\"AIC {np.round(aic, 1)}\")\n",
    "print(f\"BIC {np.round(bic, 1)}\")\n",
    "\n",
    "aic, bic = train_reg_model(X_train_scaled, y_train, ['R&D Spend', 'Marketing Spend'])\n",
    "\n",
    "print(f\"Sacamos a {X_train_scaled.columns[1]}, el modelo nos da:\")\n",
    "print(f\"AIC {np.round(aic, 1)}\")\n",
    "print(f\"BIC {np.round(bic, 1)}\")\n",
    "\n",
    "aic, bic = train_reg_model(X_train_scaled, y_train, ['R&D Spend', 'Administration'])\n",
    "\n",
    "print(f\"Sacamos a {X_train_scaled.columns[2]}, el modelo nos da:\")\n",
    "print(f\"AIC {np.round(aic, 1)}\")\n",
    "print(f\"BIC {np.round(bic, 1)}\")"
   ]
  },
  {
   "cell_type": "markdown",
   "metadata": {},
   "source": [
    "Vemos que quitando `'Administration'` el modelo mejora más. Quitemos otra columna"
   ]
  },
  {
   "cell_type": "code",
   "execution_count": 67,
   "metadata": {
    "ExecuteTime": {
     "end_time": "2024-03-28T18:21:59.555811Z",
     "start_time": "2024-03-28T18:21:59.550474Z"
    }
   },
   "outputs": [
    {
     "name": "stdout",
     "output_type": "stream",
     "text": [
      "Sacamos a R&D Spend, el modelo nos da:\n",
      "AIC 817.7\n",
      "BIC 820.8\n",
      "Sacamos a Marketing Spend, el modelo nos da:\n",
      "AIC 746.7\n",
      "BIC 749.8\n"
     ]
    }
   ],
   "source": [
    "aic, bic = train_reg_model(X_train, y_train, ['Marketing Spend'])\n",
    "\n",
    "print(f\"Sacamos a {X_train_scaled.columns[0]}, el modelo nos da:\")\n",
    "print(f\"AIC {np.round(aic, 1)}\")\n",
    "print(f\"BIC {np.round(bic, 1)}\")\n",
    "\n",
    "aic, bic = train_reg_model(X_train, y_train, ['R&D Spend'])\n",
    "\n",
    "print(f\"Sacamos a {X_train_scaled.columns[2]}, el modelo nos da:\")\n",
    "print(f\"AIC {np.round(aic, 1)}\")\n",
    "print(f\"BIC {np.round(bic, 1)}\")"
   ]
  },
  {
   "cell_type": "markdown",
   "metadata": {},
   "source": [
    "Aqui notamos que si quitamos:\n",
    "\n",
    "- `'R&D Spend'` AIC = 817.7 > AIC_previo = 745.2\n",
    "- `'Marketing Spend'` AIC = 746.7 > AIC_previo = 745.2\n",
    "\n",
    "Es decir, ningún caso mejora el modelo, por lo que el mejor modelo que encontramos es el que tiene las columnas:\n",
    "\n",
    "`'R&D Spend'` y `'Marketing Spend'`\n",
    "\n",
    "Recordemos que eran la que mejor correlación nos daban."
   ]
  },
  {
   "cell_type": "code",
   "execution_count": 68,
   "metadata": {
    "ExecuteTime": {
     "end_time": "2024-03-28T18:21:59.559134Z",
     "start_time": "2024-03-28T18:21:59.556876Z"
    }
   },
   "outputs": [],
   "source": [
    "# Armamos un DataFrame con los features\n",
    "X = dataset_with_dummies[[\"R&D Spend\", \"Marketing Spend\"]]\n",
    "# Y con la variable dependientes (target)\n",
    "y = dataset_with_dummies[\"Profit\"]"
   ]
  },
  {
   "cell_type": "code",
   "execution_count": 69,
   "metadata": {
    "ExecuteTime": {
     "end_time": "2024-03-28T18:21:59.565077Z",
     "start_time": "2024-03-28T18:21:59.559824Z"
    }
   },
   "outputs": [
    {
     "name": "stdout",
     "output_type": "stream",
     "text": [
      "Dimension de X_train: (35, 2)\n",
      "Valores de y_train: 35\n",
      "Dimension de X_test: (15, 2)\n",
      "Valores de y_test: 15\n"
     ]
    }
   ],
   "source": [
    "# Separando nuestro dataset en entrenamiento y testeo\n",
    "X_train, X_test, y_train, y_test = train_test_split(X, y, test_size=0.3, random_state=42)\n",
    "\n",
    "# Escalamos los datos\n",
    "sc_X = StandardScaler()\n",
    "X_train_scaled = sc_X.fit_transform(X_train)\n",
    "X_test_scaled = sc_X.fit_transform(X_test)\n",
    "\n",
    "# Datos de train y de test\n",
    "print(\"Dimension de X_train:\",X_train_scaled.shape)\n",
    "print(\"Valores de y_train:\",y_train.size)\n",
    "print(\"Dimension de X_test:\",X_test_scaled.shape)\n",
    "print(\"Valores de y_test:\",len(y_test))"
   ]
  },
  {
   "cell_type": "code",
   "execution_count": 70,
   "metadata": {
    "ExecuteTime": {
     "end_time": "2024-03-28T18:21:59.569142Z",
     "start_time": "2024-03-28T18:21:59.565738Z"
    }
   },
   "outputs": [
    {
     "name": "stdout",
     "output_type": "stream",
     "text": [
      "El valor de la intersección de la recta sera 111235.21314285714\n",
      "Los valores de los coeficientes de la recta sera [36450.27863188  4483.09293462]\n"
     ]
    }
   ],
   "source": [
    "regresion = LinearRegression()\n",
    "\n",
    "regresion.fit(X_train_scaled, y_train)\n",
    "\n",
    "print(f\"El valor de la intersección de la recta sera {regresion.intercept_ }\")\n",
    "print(f\"Los valores de los coeficientes de la recta sera {regresion.coef_ }\")"
   ]
  },
  {
   "cell_type": "code",
   "execution_count": 71,
   "metadata": {
    "ExecuteTime": {
     "end_time": "2024-03-28T18:21:59.575514Z",
     "start_time": "2024-03-28T18:21:59.573128Z"
    }
   },
   "outputs": [
    {
     "name": "stdout",
     "output_type": "stream",
     "text": [
      "El coeficiente de Pearson es 0.9482660138683449\n"
     ]
    }
   ],
   "source": [
    "print(f\"El coeficiente de Pearson es {regresion.score(X_train_scaled, y_train)}\")"
   ]
  },
  {
   "cell_type": "code",
   "execution_count": 72,
   "metadata": {
    "ExecuteTime": {
     "end_time": "2024-03-28T18:21:59.580760Z",
     "start_time": "2024-03-28T18:21:59.577037Z"
    }
   },
   "outputs": [
    {
     "name": "stdout",
     "output_type": "stream",
     "text": [
      "Desvío estándar del modelo 9570.75762915866\n"
     ]
    }
   ],
   "source": [
    "# Calculamos el desvío estándar del modelo\n",
    "std_dev_model = np.sqrt((np.sum((y_train - regresion.predict(X_train_scaled))**2))/(y_train.size-2))\n",
    "print(f\"Desvío estándar del modelo {std_dev_model}\")"
   ]
  },
  {
   "cell_type": "code",
   "execution_count": 73,
   "metadata": {
    "ExecuteTime": {
     "end_time": "2024-03-28T18:21:59.584926Z",
     "start_time": "2024-03-28T18:21:59.581518Z"
    }
   },
   "outputs": [],
   "source": [
    "#Otenemos las predicciones del modelo\n",
    "y_pred = regresion.predict(X_test_scaled)"
   ]
  },
  {
   "cell_type": "code",
   "execution_count": 74,
   "metadata": {
    "ExecuteTime": {
     "end_time": "2024-03-28T18:21:59.591084Z",
     "start_time": "2024-03-28T18:21:59.587393Z"
    },
    "collapsed": false,
    "jupyter": {
     "outputs_hidden": false
    }
   },
   "outputs": [],
   "source": [
    "r2 = r2_score(y_test, y_pred)\n",
    "mae = mean_absolute_error(y_test, y_pred)\n",
    "mse = mean_squared_error(y_test, y_pred)\n",
    "rmse = np.sqrt(mse)\n",
    "mape = mean_absolute_percentage_error(y_test, y_pred)\n",
    "mpe = mean_porcentual_error(y_test, y_pred)"
   ]
  },
  {
   "cell_type": "code",
   "execution_count": 75,
   "metadata": {
    "ExecuteTime": {
     "end_time": "2024-03-28T18:21:59.594194Z",
     "start_time": "2024-03-28T18:21:59.591947Z"
    }
   },
   "outputs": [
    {
     "name": "stdout",
     "output_type": "stream",
     "text": [
      "R-cuadrado en test: 0.9479768860237261\n",
      "Error absoluto medio: 6568.485636252992\n",
      "Error cuadratico medio: 73196572.74944909\n",
      "Raiz de error cuadratico medio: 8555.499561653258\n",
      "Error absoluto porcentual medio: 7.03%\n",
      "Error porcentual medio: 2.89%\n"
     ]
    }
   ],
   "source": [
    "print(\"R-cuadrado en test:\", r2)\n",
    "print(\"Error absoluto medio:\", mae)\n",
    "print(\"Error cuadratico medio:\", mse)\n",
    "print(\"Raiz de error cuadratico medio:\", rmse)\n",
    "print(f\"Error absoluto porcentual medio: {mape*100:.2f}%\")\n",
    "print(f\"Error porcentual medio: {mpe*100:.2f}%\")"
   ]
  },
  {
   "cell_type": "markdown",
   "metadata": {},
   "source": [
    "El modelo con el dataset de testing mejoró. Es decir, el modelo tiene menos overfitting, es decir generaliza mejor.\n",
    "\n",
    "Menos variable generaliza mejor.\n",
    "\n",
    "----\n",
    "\n",
    "## Regresión Lasso y Ridge\n",
    "\n",
    "Para ver el efecto de las penalizaciones L1 y L2 en la regresión lineal, vamos a ver el dataset de las 50 startups. Ya vimos, cuando hicimos Selección de modelo mediante eliminación hacia atrás, encontramos que con solo dos atributos (`\"R&D Spend\"`, `\"Marketing Spend\"`), obtuvimos un mejor modelo. Veamos cómo nos afecta el hecho de usar estas penalidades."
   ]
  },
  {
   "cell_type": "code",
   "execution_count": 76,
   "metadata": {
    "ExecuteTime": {
     "end_time": "2024-03-28T18:21:59.603558Z",
     "start_time": "2024-03-28T18:21:59.594886Z"
    }
   },
   "outputs": [
    {
     "data": {
      "text/html": [
       "<div>\n",
       "<style scoped>\n",
       "    .dataframe tbody tr th:only-of-type {\n",
       "        vertical-align: middle;\n",
       "    }\n",
       "\n",
       "    .dataframe tbody tr th {\n",
       "        vertical-align: top;\n",
       "    }\n",
       "\n",
       "    .dataframe thead th {\n",
       "        text-align: right;\n",
       "    }\n",
       "</style>\n",
       "<table border=\"1\" class=\"dataframe\">\n",
       "  <thead>\n",
       "    <tr style=\"text-align: right;\">\n",
       "      <th></th>\n",
       "      <th>R&amp;D Spend</th>\n",
       "      <th>Administration</th>\n",
       "      <th>Marketing Spend</th>\n",
       "      <th>Profit</th>\n",
       "      <th>State_Florida</th>\n",
       "      <th>State_New York</th>\n",
       "    </tr>\n",
       "  </thead>\n",
       "  <tbody>\n",
       "    <tr>\n",
       "      <th>0</th>\n",
       "      <td>165349.20</td>\n",
       "      <td>136897.80</td>\n",
       "      <td>471784.10</td>\n",
       "      <td>192261.83</td>\n",
       "      <td>0.0</td>\n",
       "      <td>1.0</td>\n",
       "    </tr>\n",
       "    <tr>\n",
       "      <th>1</th>\n",
       "      <td>162597.70</td>\n",
       "      <td>151377.59</td>\n",
       "      <td>443898.53</td>\n",
       "      <td>191792.06</td>\n",
       "      <td>0.0</td>\n",
       "      <td>0.0</td>\n",
       "    </tr>\n",
       "    <tr>\n",
       "      <th>2</th>\n",
       "      <td>153441.51</td>\n",
       "      <td>101145.55</td>\n",
       "      <td>407934.54</td>\n",
       "      <td>191050.39</td>\n",
       "      <td>1.0</td>\n",
       "      <td>0.0</td>\n",
       "    </tr>\n",
       "    <tr>\n",
       "      <th>3</th>\n",
       "      <td>144372.41</td>\n",
       "      <td>118671.85</td>\n",
       "      <td>383199.62</td>\n",
       "      <td>182901.99</td>\n",
       "      <td>0.0</td>\n",
       "      <td>1.0</td>\n",
       "    </tr>\n",
       "    <tr>\n",
       "      <th>4</th>\n",
       "      <td>142107.34</td>\n",
       "      <td>91391.77</td>\n",
       "      <td>366168.42</td>\n",
       "      <td>166187.94</td>\n",
       "      <td>1.0</td>\n",
       "      <td>0.0</td>\n",
       "    </tr>\n",
       "  </tbody>\n",
       "</table>\n",
       "</div>"
      ],
      "text/plain": [
       "   R&D Spend  Administration  Marketing Spend     Profit  State_Florida  \\\n",
       "0  165349.20       136897.80        471784.10  192261.83            0.0   \n",
       "1  162597.70       151377.59        443898.53  191792.06            0.0   \n",
       "2  153441.51       101145.55        407934.54  191050.39            1.0   \n",
       "3  144372.41       118671.85        383199.62  182901.99            0.0   \n",
       "4  142107.34        91391.77        366168.42  166187.94            1.0   \n",
       "\n",
       "   State_New York  \n",
       "0             1.0  \n",
       "1             0.0  \n",
       "2             0.0  \n",
       "3             1.0  \n",
       "4             0.0  "
      ]
     },
     "execution_count": 76,
     "metadata": {},
     "output_type": "execute_result"
    }
   ],
   "source": [
    "#Cargamos el dataset y aplicamos las transformaciones que ya vimos previamente.\n",
    "dataset = pd.read_csv(\"datasets/50_Startups.csv\") \n",
    "dataset.head() \n",
    "dataset_with_dummies = pd.get_dummies(data=dataset, columns=['State'], drop_first=True)\n",
    "dataset_with_dummies = dataset_with_dummies.astype('float')\n",
    "\n",
    "dataset_with_dummies.head()"
   ]
  },
  {
   "cell_type": "code",
   "execution_count": 77,
   "metadata": {
    "ExecuteTime": {
     "end_time": "2024-03-28T18:21:59.606701Z",
     "start_time": "2024-03-28T18:21:59.604240Z"
    }
   },
   "outputs": [],
   "source": [
    "# Armamos el DataFrame con los features\n",
    "X = dataset_with_dummies.drop(columns='Profit')\n",
    "# Y con la variable dependiente (target)\n",
    "y = dataset_with_dummies[\"Profit\"]"
   ]
  },
  {
   "cell_type": "code",
   "execution_count": 78,
   "metadata": {
    "ExecuteTime": {
     "end_time": "2024-03-28T18:21:59.612539Z",
     "start_time": "2024-03-28T18:21:59.607553Z"
    }
   },
   "outputs": [
    {
     "name": "stdout",
     "output_type": "stream",
     "text": [
      "Dimension de X_train: (35, 5)\n",
      "Valores de y_train: 35\n",
      "Dimension de X_test: (15, 5)\n",
      "Valores de y_test: 15\n"
     ]
    }
   ],
   "source": [
    "# Separando nuestro dataset en entrenamiento y testeo\n",
    "X_train, X_test, y_train, y_test = train_test_split(X, y, test_size=0.3, random_state=42)\n",
    "\n",
    "# Escalamos los datos\n",
    "sc_X = StandardScaler()\n",
    "X_train_scaled = sc_X.fit_transform(X_train)\n",
    "X_test_scaled = sc_X.fit_transform(X_test)\n",
    "\n",
    "# Datos de train y de test\n",
    "print(\"Dimension de X_train:\",X_train_scaled.shape)\n",
    "print(\"Valores de y_train:\",y_train.size)\n",
    "print(\"Dimension de X_test:\",X_test_scaled.shape)\n",
    "print(\"Valores de y_test:\",len(y_test))"
   ]
  },
  {
   "cell_type": "code",
   "execution_count": 79,
   "metadata": {
    "ExecuteTime": {
     "end_time": "2024-03-28T18:21:59.618365Z",
     "start_time": "2024-03-28T18:21:59.613163Z"
    }
   },
   "outputs": [],
   "source": [
    "# Primero aplicamos la regresión lineal con todas las variables y el mejor modelo que vimos \n",
    "# eliminación hacia adelante\n",
    "regresion = LinearRegression()\n",
    "reg_stepwise = LinearRegression()\n",
    "\n",
    "# Entrenamos el modelo\n",
    "regresion.fit(X_train_scaled, y_train)\n",
    "reg_stepwise.fit(X_train_scaled[:, [0,2]], y_train)\n",
    "\n",
    "# Realizamos la parte de testeo\n",
    "y_pred = regresion.predict(X_test_scaled)\n",
    "\n",
    "r2_linear = r2_score(y_test, y_pred)\n",
    "mse_linear = mean_squared_error(y_test, y_pred)\n",
    "rmse_linear = np.sqrt(mse_linear)\n",
    "\n",
    "y_pred_stepwise = reg_stepwise.predict(X_test_scaled[:,[0,2]])\n",
    "\n",
    "r2_stepwise = r2_score(y_test, y_pred_stepwise)\n",
    "mse_stepwise = mean_squared_error(y_test, y_pred_stepwise)\n",
    "rmse_stepwise = np.sqrt(mse_stepwise)"
   ]
  },
  {
   "cell_type": "markdown",
   "metadata": {},
   "source": [
    "En sklearn tenemos a las dos regresiones, [Ridge](https://scikit-learn.org/stable/modules/generated/sklearn.linear_model.Ridge.html) y [Lasso](https://scikit-learn.org/stable/modules/generated/sklearn.linear_model.Lasso.html):"
   ]
  },
  {
   "cell_type": "code",
   "execution_count": 80,
   "metadata": {
    "ExecuteTime": {
     "end_time": "2024-03-28T18:21:59.620589Z",
     "start_time": "2024-03-28T18:21:59.619082Z"
    }
   },
   "outputs": [],
   "source": [
    "from sklearn.linear_model import Ridge, Lasso"
   ]
  },
  {
   "cell_type": "markdown",
   "metadata": {},
   "source": [
    "Grafiquemos los valores de cada coeficiente a medida que aumenta $\\alpha$ para ambas regresiones"
   ]
  },
  {
   "cell_type": "code",
   "execution_count": 81,
   "metadata": {
    "ExecuteTime": {
     "end_time": "2024-03-28T18:22:02.311102Z",
     "start_time": "2024-03-28T18:21:59.621228Z"
    }
   },
   "outputs": [],
   "source": [
    "coeffs_lasso = np.zeros([5000, 5])\n",
    "coeffs_ridge = np.zeros([5000, 5])\n",
    "\n",
    "# Guardamos los coeficientes de la regresión lineal (alpha = 0)\n",
    "coeffs_lasso[0, :] = regresion.coef_.copy()\n",
    "coeffs_ridge[0, :] = regresion.coef_.copy()\n",
    "alpha_array = np.arange(0, 10000, 2)\n",
    "\n",
    "# Calculamos los coeficientes para diferentes valores de lambda\n",
    "for index, alpha in enumerate(alpha_array):\n",
    "\n",
    "    if index == 0:\n",
    "        continue\n",
    "\n",
    "    # Creamos los modelos\n",
    "    lasso_model = Lasso(alpha=alpha)\n",
    "    ridge_model = Ridge(alpha=alpha)\n",
    "\n",
    "    # Los entrenamos\n",
    "    lasso_model.fit(X_train_scaled, y_train)\n",
    "    ridge_model.fit(X_train_scaled, y_train)\n",
    "\n",
    "    # Guardamos los coeficientes de las regresiones\n",
    "    coeffs_lasso[index, :] = lasso_model.coef_.copy()\n",
    "    coeffs_ridge[index, :] = ridge_model.coef_.copy()"
   ]
  },
  {
   "cell_type": "code",
   "execution_count": 82,
   "metadata": {
    "ExecuteTime": {
     "end_time": "2024-03-28T18:22:02.506686Z",
     "start_time": "2024-03-28T18:22:02.311752Z"
    }
   },
   "outputs": [
    {
     "data": {
      "image/png": "[encoded data removed]",
      "text/plain": [
       "<Figure size 900x350 with 2 Axes>"
      ]
     },
     "metadata": {},
     "output_type": "display_data"
    }
   ],
   "source": [
    "f, ax = plt.subplots(1, 2, figsize=(9, 3.5))\n",
    "\n",
    "for i in range(coeffs_lasso.shape[1]):\n",
    "    ax[0].plot(alpha_array, coeffs_lasso[:, i])\n",
    "\n",
    "    ax[1].plot(alpha_array, coeffs_ridge[:, i], label=X_train.columns[i])\n",
    "\n",
    "ax[1].legend()\n",
    "ax[0].set_xlim([-100, 8000])\n",
    "ax[1].set_xlim([-100, 4000])\n",
    "\n",
    "ax[0].set_ylabel(\"Coefficients\")\n",
    "ax[0].set_xlabel(\"alpha\")\n",
    "ax[1].set_xlabel(\"alpha\")\n",
    "\n",
    "ax[0].set_title(\"Lasso (L1)\")\n",
    "ax[1].set_title(\"Ridge (L2)\")\n",
    "\n",
    "plt.tight_layout();"
   ]
  },
  {
   "cell_type": "markdown",
   "metadata": {},
   "source": [
    "Vemos los efectos de las regresiones, donde en la regresión de Ridge tiende a cero todos los coeficientes, mientras que en la de Lasso, los diferentes coeficientes se van haciendo cero, en el mismo orden de cuando hicimos la selección mediante eliminación hacia atrás.\n",
    "\n",
    "Veamos un ejemplo de dos modelos de cada uno. \n",
    "\n",
    "*Nota: Los valores de alpha son obtenidos con validación cruzada y búsqueda de hiperparámetros que veremos en AMq1.*"
   ]
  },
  {
   "cell_type": "code",
   "execution_count": 83,
   "metadata": {
    "ExecuteTime": {
     "end_time": "2024-03-28T18:22:02.516086Z",
     "start_time": "2024-03-28T18:22:02.508844Z"
    }
   },
   "outputs": [
    {
     "name": "stdout",
     "output_type": "stream",
     "text": [
      "Modelo de regresión lineal\n",
      "R-cuadrado en test: 0.9391786904178374\n",
      "Raiz de error cuadratico medio: 9250.710386623468\n",
      "\n",
      "Modelo de regresión lineal usando eliminación hacia atrás\n",
      "R-cuadrado en test: 0.9479768860237261\n",
      "Raiz de error cuadratico medio: 8555.499561653258\n",
      "\n",
      "Lasso\n",
      "R-cuadrado en test: 0.948646954210094\n",
      "Raiz de error cuadratico medio: 8500.222711751876\n",
      "\n",
      "Ridge\n",
      "R-cuadrado en test: 0.9435930483208119\n",
      "Raiz de error cuadratico medio: 8908.683220740364\n"
     ]
    }
   ],
   "source": [
    "# Creamos los modelos\n",
    "lasso_model = Lasso(alpha=871.45)\n",
    "ridge_model = Ridge(alpha=1)\n",
    "\n",
    "# Entrenamos los modelos\n",
    "lasso_model.fit(X_train_scaled, y_train)\n",
    "ridge_model.fit(X_train_scaled, y_train)\n",
    "\n",
    "# Realizamos la parte de testeo\n",
    "y_pred_lasso = lasso_model.predict(X_test_scaled)\n",
    "y_pred_ridge = ridge_model.predict(X_test_scaled)\n",
    "\n",
    "r2_lasso = r2_score(y_test, y_pred_lasso)\n",
    "mse_lasso = mean_squared_error(y_test, y_pred_lasso)\n",
    "rmse_lasso = np.sqrt(mse_lasso)\n",
    "\n",
    "r2_ridge = r2_score(y_test, y_pred_ridge)\n",
    "mse_ridge = mean_squared_error(y_test, y_pred_ridge)\n",
    "rmse_ridge = np.sqrt(mse_ridge)\n",
    "\n",
    "print(\"Modelo de regresión lineal\")\n",
    "print(\"R-cuadrado en test:\", r2_linear)\n",
    "print(\"Raiz de error cuadratico medio:\", rmse_linear)\n",
    "\n",
    "print(\"\\nModelo de regresión lineal usando eliminación hacia atrás\")\n",
    "print(\"R-cuadrado en test:\", r2_stepwise)\n",
    "print(\"Raiz de error cuadratico medio:\", rmse_stepwise)\n",
    "\n",
    "print(\"\\nLasso\")\n",
    "print(\"R-cuadrado en test:\", r2_lasso)\n",
    "print(\"Raiz de error cuadratico medio:\", rmse_lasso)\n",
    "\n",
    "print(\"\\nRidge\")\n",
    "print(\"R-cuadrado en test:\", r2_ridge)\n",
    "print(\"Raiz de error cuadratico medio:\", rmse_ridge)"
   ]
  },
  {
   "cell_type": "markdown",
   "metadata": {},
   "source": [
    "Vemos que la regresión de Lasso nos dio mejor resultado, el cual es parecido al resultado obtenido en la selección de modelo mediante eliminación hacia atrás. Es un poco mejor, pero claramente muestra una mejora con respecto a una regresión lineal de todos los atributos.\n",
    "\n",
    "Veamos el coeficiente del modelo de regresión Lasso, "
   ]
  },
  {
   "cell_type": "code",
   "execution_count": 84,
   "metadata": {
    "ExecuteTime": {
     "end_time": "2024-03-28T18:22:02.520460Z",
     "start_time": "2024-03-28T18:22:02.516867Z"
    }
   },
   "outputs": [
    {
     "name": "stdout",
     "output_type": "stream",
     "text": [
      "Los coeficientes de la regresión Lasso con lambda=871 son [36565.05725482 -1206.37005016  3382.85826146     0.\n",
      "    -0.        ]\n"
     ]
    }
   ],
   "source": [
    "print(f\"Los coeficientes de la regresión Lasso con alpha=871 son {lasso_model.coef_}\")"
   ]
  },
  {
   "cell_type": "markdown",
   "metadata": {},
   "source": [
    "Vemos que los coeficientes de la ubicación de las startups son cero. Por lo que, este modelo no tiene en cuenta esos dos valores, por lo que se puede usar el modelo sin pasar esos atributos. \n",
    "\n",
    "La regresión Lasso no puede encontrar el mejor modelo de solo usar los dos atributos `\"R&D Spend\"` y `\"Marketing Spend\"` porque la penalización para que la columna `\"Administration\"` sea cero le afecta mucho también a los valores de las columnas `\"R&D Spend\"` y `\"Marketing Spend\"`, y por consiguiente modelos Lasso sin el atributo `\"Administration\"` rinde peor que la regresión lineal que obtuvimos mediante selección de modelo.\n",
    "\n",
    "Por otro lado, la regresión de Ridge no mejora el resultado obtenido. Esto se debe a que el problema que tenemos, la regresión lineal no presenta problemas de error de varianza. Ridge tiene sentido cuando tenemos muchos atributos y pocas observaciones."
   ]
  },
  {
   "cell_type": "code",
   "execution_count": null,
   "metadata": {
    "ExecuteTime": {
     "end_time": "2024-03-28T18:22:02.524838Z",
     "start_time": "2024-03-28T18:22:02.522935Z"
    },
    "collapsed": false,
    "jupyter": {
     "outputs_hidden": false
    }
   },
   "outputs": [],
   "source": []
  }
 ],
 "metadata": {
  "kernelspec": {
   "display_name": "Python 3 (ipykernel)",
   "language": "python",
   "name": "python3"
  },
  "language_info": {
   "codemirror_mode": {
    "name": "ipython",
    "version": 3
   },
   "file_extension": ".py",
   "mimetype": "text/x-python",
   "name": "python",
   "nbconvert_exporter": "python",
   "pygments_lexer": "ipython3",
   "version": "3.10.14"
  }
 },
 "nbformat": 4,
 "nbformat_minor": 4
}
